{
 "cells": [
  {
   "cell_type": "code",
   "execution_count": 11,
   "metadata": {},
   "outputs": [],
   "source": [
    "import matplotlib.pyplot as plt\n",
    "from pandas.core.common import flatten\n",
    "import copy\n",
    "import numpy as np\n",
    "import random\n",
    "import torch\n",
    "import torchvision\n",
    "from torch import nn\n",
    "from torch import optim\n",
    "import torch.nn.functional as F\n",
    "from torchvision import datasets, transforms, models\n",
    "from torch.utils.data import Dataset, DataLoader\n",
    "from sklearn.model_selection import StratifiedShuffleSplit\n",
    "import wandb\n",
    "from torchvision import datasets, transforms\n",
    "from torch.utils.data import DataLoader, Subset\n",
    "from sklearn.model_selection import StratifiedShuffleSplit\n",
    "import numpy as np\n",
    "\n"
   ]
  },
  {
   "cell_type": "code",
   "execution_count": 12,
   "metadata": {},
   "outputs": [
    {
     "data": {
      "text/plain": [
       "'def prepare(batch_size=64):\\n    transform = transforms.Compose([\\n    transforms.Resize((256,256)), \\n    transforms.ToTensor(),\\n    transforms.Normalize((0.485, 0.456, 0.406), (0.229, 0.224, 0.225)),\\n    ])\\n    classes = (\\'Amphibia\\', \\'Animalia\\', \\'Arachnida\\', \\'Aves\\', \\'Fungi\\', \\'Insecta\\', \\'Mammalia\\', \\'Mollusca\\', \\'Plantae\\', \\'Reptilia\\')\\n    train_data_path = \\'/home/bincy/A2/CS-6910-A2/inaturalist_12K/train\\'\\n    test_data_path = \\'/home/bincy/A2/CS-6910-A2/inaturalist_12K/val\\'\\n\\n    # Create datasets from the directories\\n    train_data_path = \\'/home/bincy/A2/CS-6910-A2/inaturalist_12K/train\\'\\n    test_data_path = \\'/home/bincy/A2/CS-6910-A2/inaturalist_12K/val\\'\\n\\n    # Create datasets from the directories\\n    train_dataset = datasets.ImageFolder(train_data_path, transform=transform)\\n    test_dataset = datasets.ImageFolder(test_data_path, transform=transform)\\n    class_labels = np.array(train_dataset.targets)\\n\\n    validation_size = 0.2\\n\\n    stratified_splitter = StratifiedShuffleSplit(n_splits=1, test_size=validation_size, random_state=42)\\n\\n\\n    train_indices, validation_indices = next(stratified_splitter.split(train_dataset, class_labels))\\n\\n    # Create a balanced validation subset\\n    validation_targets = class_labels[validation_indices]\\n    unique_classes, class_counts = np.unique(validation_targets, return_counts=True)\\n    min_class_count = min(class_counts)\\n\\n    balanced_validation_indices = []\\n    for cls in unique_classes:\\n        cls_indices = validation_indices[validation_targets == cls]\\n        balanced_validation_indices.extend(np.random.choice(cls_indices, min_class_count, replace=False))\\n\\n    # Create subsets using the indices\\n    train_subset = torch.utils.data.Subset(train_dataset, train_indices)\\n    validation_subset = torch.utils.data.Subset(train_dataset, balanced_validation_indices)\\n    print(type(train_subset),type(validation_subset))\\n    #validation split ensuring equal represntation of classes\\n\\n    class_labels = np.array(train_dataset.targets)\\n\\n    validation_size = 0.2\\n\\n    stratified_splitter = StratifiedShuffleSplit(n_splits=1, test_size=validation_size, random_state=42)\\n\\n\\n    train_indices, validation_indices = next(stratified_splitter.split(train_dataset, class_labels))\\n\\n    # Create a balanced validation subset\\n    validation_targets = class_labels[validation_indices]\\n    unique_classes, class_counts = np.unique(validation_targets, return_counts=True)\\n    min_class_count = min(class_counts)\\n\\n    balanced_validation_indices = []\\n    for cls in unique_classes:\\n        cls_indices = validation_indices[validation_targets == cls]\\n        balanced_validation_indices.extend(np.random.choice(cls_indices, min_class_count, replace=False))\\n\\n    # Create subsets using the indices\\n    train_subset = torch.utils.data.Subset(train_dataset, train_indices)\\n    validation_subset = torch.utils.data.Subset(train_dataset, balanced_validation_indices)\\n    print(type(train_subset),type(validation_subset))\\n\\n# Now train_subset and validation_subset contain data with balanced class representation\\n  \\n    trainloader = torch.utils.data.DataLoader(train_subset, batch_size=batch_size, shuffle=True)\\n    validationloader = torch.utils.data.DataLoader(validation_subset, batch_size=batch_size, shuffle=True)\\n    testloader = torch.utils.data.DataLoader(test_dataset, batch_size=batch_size, shuffle=False)\\n    print(type(trainloader))\\n    # Check images\\n    dataiter = iter(trainloader)\\n    images, labels = next(dataiter)\\n\\n    print(\"the images batch\",images.shape)\\n\\n    print(\"a single item\",images[3].shape)\\n    print(\"label of item\",labels[3].item())\\n    #visualising\\n    img = images[3]\\n    print(type(img))\\n    npimg = img.numpy()\\n    print(npimg.shape)\\n    npimg = np.transpose(npimg, (1, 2, 0))\\n    print(npimg.shape)\\n    plt.figure(figsize = (4,4))\\n    plt.imshow(npimg)\\n    plt.title(classes[labels[3]])\\n    plt.show()\\n    imshow(torchvision.utils.make_grid(images))\\n    print(\\' \\'.join(classes[labels[j]] for j in range(batch_size)))\\n\\n    return trainloader,validationloader,testloader\\n'"
      ]
     },
     "execution_count": 12,
     "metadata": {},
     "output_type": "execute_result"
    }
   ],
   "source": [
    "'''def prepare(batch_size=64):\n",
    "    transform = transforms.Compose([\n",
    "    transforms.Resize((256,256)), \n",
    "    transforms.ToTensor(),\n",
    "    transforms.Normalize((0.485, 0.456, 0.406), (0.229, 0.224, 0.225)),\n",
    "    ])\n",
    "    classes = ('Amphibia', 'Animalia', 'Arachnida', 'Aves', 'Fungi', 'Insecta', 'Mammalia', 'Mollusca', 'Plantae', 'Reptilia')\n",
    "    train_data_path = '/home/bincy/A2/CS-6910-A2/inaturalist_12K/train'\n",
    "    test_data_path = '/home/bincy/A2/CS-6910-A2/inaturalist_12K/val'\n",
    "\n",
    "    # Create datasets from the directories\n",
    "    train_data_path = '/home/bincy/A2/CS-6910-A2/inaturalist_12K/train'\n",
    "    test_data_path = '/home/bincy/A2/CS-6910-A2/inaturalist_12K/val'\n",
    "\n",
    "    # Create datasets from the directories\n",
    "    train_dataset = datasets.ImageFolder(train_data_path, transform=transform)\n",
    "    test_dataset = datasets.ImageFolder(test_data_path, transform=transform)\n",
    "    class_labels = np.array(train_dataset.targets)\n",
    "\n",
    "    validation_size = 0.2\n",
    "\n",
    "    stratified_splitter = StratifiedShuffleSplit(n_splits=1, test_size=validation_size, random_state=42)\n",
    "\n",
    "\n",
    "    train_indices, validation_indices = next(stratified_splitter.split(train_dataset, class_labels))\n",
    "\n",
    "    # Create a balanced validation subset\n",
    "    validation_targets = class_labels[validation_indices]\n",
    "    unique_classes, class_counts = np.unique(validation_targets, return_counts=True)\n",
    "    min_class_count = min(class_counts)\n",
    "\n",
    "    balanced_validation_indices = []\n",
    "    for cls in unique_classes:\n",
    "        cls_indices = validation_indices[validation_targets == cls]\n",
    "        balanced_validation_indices.extend(np.random.choice(cls_indices, min_class_count, replace=False))\n",
    "\n",
    "    # Create subsets using the indices\n",
    "    train_subset = torch.utils.data.Subset(train_dataset, train_indices)\n",
    "    validation_subset = torch.utils.data.Subset(train_dataset, balanced_validation_indices)\n",
    "    print(type(train_subset),type(validation_subset))\n",
    "    #validation split ensuring equal represntation of classes\n",
    "\n",
    "    class_labels = np.array(train_dataset.targets)\n",
    "\n",
    "    validation_size = 0.2\n",
    "\n",
    "    stratified_splitter = StratifiedShuffleSplit(n_splits=1, test_size=validation_size, random_state=42)\n",
    "\n",
    "\n",
    "    train_indices, validation_indices = next(stratified_splitter.split(train_dataset, class_labels))\n",
    "\n",
    "    # Create a balanced validation subset\n",
    "    validation_targets = class_labels[validation_indices]\n",
    "    unique_classes, class_counts = np.unique(validation_targets, return_counts=True)\n",
    "    min_class_count = min(class_counts)\n",
    "\n",
    "    balanced_validation_indices = []\n",
    "    for cls in unique_classes:\n",
    "        cls_indices = validation_indices[validation_targets == cls]\n",
    "        balanced_validation_indices.extend(np.random.choice(cls_indices, min_class_count, replace=False))\n",
    "\n",
    "    # Create subsets using the indices\n",
    "    train_subset = torch.utils.data.Subset(train_dataset, train_indices)\n",
    "    validation_subset = torch.utils.data.Subset(train_dataset, balanced_validation_indices)\n",
    "    print(type(train_subset),type(validation_subset))\n",
    "\n",
    "# Now train_subset and validation_subset contain data with balanced class representation\n",
    "  \n",
    "    trainloader = torch.utils.data.DataLoader(train_subset, batch_size=batch_size, shuffle=True)\n",
    "    validationloader = torch.utils.data.DataLoader(validation_subset, batch_size=batch_size, shuffle=True)\n",
    "    testloader = torch.utils.data.DataLoader(test_dataset, batch_size=batch_size, shuffle=False)\n",
    "    print(type(trainloader))\n",
    "    # Check images\n",
    "    dataiter = iter(trainloader)\n",
    "    images, labels = next(dataiter)\n",
    "\n",
    "    print(\"the images batch\",images.shape)\n",
    "\n",
    "    print(\"a single item\",images[3].shape)\n",
    "    print(\"label of item\",labels[3].item())\n",
    "    #visualising\n",
    "    img = images[3]\n",
    "    print(type(img))\n",
    "    npimg = img.numpy()\n",
    "    print(npimg.shape)\n",
    "    npimg = np.transpose(npimg, (1, 2, 0))\n",
    "    print(npimg.shape)\n",
    "    plt.figure(figsize = (4,4))\n",
    "    plt.imshow(npimg)\n",
    "    plt.title(classes[labels[3]])\n",
    "    plt.show()\n",
    "    imshow(torchvision.utils.make_grid(images))\n",
    "    print(' '.join(classes[labels[j]] for j in range(batch_size)))\n",
    "\n",
    "    return trainloader,validationloader,testloader\n",
    "'''\n"
   ]
  },
  {
   "cell_type": "code",
   "execution_count": 13,
   "metadata": {},
   "outputs": [],
   "source": [
    "from torchvision import datasets, transforms\n",
    "from torch.utils.data import DataLoader\n",
    "from sklearn.model_selection import StratifiedShuffleSplit\n",
    "import numpy as np\n",
    "\n",
    "def prepare(batch_size=64, use_data_augmentation=False):\n",
    "    # Common normalization and resize operations\n",
    "    common_transforms = [\n",
    "        transforms.Resize((256, 256)),\n",
    "        transforms.ToTensor(),\n",
    "        transforms.Normalize((0.485, 0.456, 0.406), (0.229, 0.224, 0.225)),\n",
    "    ]\n",
    "\n",
    "    # Define transformations for the training data with optional augmentation\n",
    "    if use_data_augmentation:\n",
    "        train_transform = transforms.Compose([\n",
    "            transforms.RandomHorizontalFlip(),  # Example augmentation\n",
    "            transforms.RandomRotation(10),  # Example augmentation\n",
    "            *common_transforms,\n",
    "        ])\n",
    "    else:\n",
    "        train_transform = transforms.Compose(common_transforms)\n",
    "\n",
    "    # Transformations for validation and test data (no augmentation)\n",
    "    test_transform = transforms.Compose(common_transforms)\n",
    "\n",
    "    train_data_path = '/home/agcl/bincy/CS 6910 A2/inaturalist_12K/train'\n",
    "    test_data_path = '/home/agcl/bincy/CS 6910 A2/inaturalist_12K/val'\n",
    "\n",
    "    # Load the training dataset with the train_transform\n",
    "    full_train_dataset = datasets.ImageFolder(train_data_path, transform=train_transform)\n",
    "\n",
    "    # Split the full training dataset into training and validation subsets\n",
    "    validation_size = 0.2\n",
    "    stratified_splitter = StratifiedShuffleSplit(n_splits=1, test_size=validation_size, random_state=42)\n",
    "    train_indices, validation_indices = next(stratified_splitter.split(np.array(full_train_dataset.targets), np.array(full_train_dataset.targets)))\n",
    "\n",
    "    # Create subsets for training and validation\n",
    "    train_subset = Subset(full_train_dataset, train_indices)\n",
    "    validation_dataset = datasets.ImageFolder(train_data_path, transform=test_transform)  # Reload with test_transform\n",
    "    validation_subset = Subset(validation_dataset, validation_indices)\n",
    "\n",
    "    # Load the test dataset with the test_transform\n",
    "    test_dataset = datasets.ImageFolder(test_data_path, transform=test_transform)\n",
    "\n",
    "    # Create DataLoaders for training, validation, and test datasets\n",
    "    trainloader = DataLoader(train_subset, batch_size=batch_size, shuffle=True)\n",
    "    validationloader = DataLoader(validation_subset, batch_size=batch_size, shuffle=False)\n",
    "    testloader = DataLoader(test_dataset, batch_size=batch_size, shuffle=False)\n",
    "\n",
    "    return trainloader, validationloader, testloader\n",
    "\n"
   ]
  },
  {
   "cell_type": "code",
   "execution_count": 14,
   "metadata": {},
   "outputs": [],
   "source": [
    "def imshow(img,figsize=(8,8)):\n",
    "    plt.figure(figsize=figsize)\n",
    "    npimg = img.numpy()\n",
    "    plt.imshow(np.transpose(npimg, (1, 2, 0)))\n",
    "    plt.show()"
   ]
  },
  {
   "cell_type": "code",
   "execution_count": 15,
   "metadata": {},
   "outputs": [
    {
     "name": "stdout",
     "output_type": "stream",
     "text": [
      "CNN(\n",
      "  (conv_layers): ModuleList(\n",
      "    (0): Sequential(\n",
      "      (0): Conv2d(3, 32, kernel_size=(3, 3), stride=(1, 1), padding=(1, 1))\n",
      "      (1): ReLU()\n",
      "      (2): MaxPool2d(kernel_size=2, stride=2, padding=0, dilation=1, ceil_mode=False)\n",
      "      (3): Dropout(p=0.2, inplace=False)\n",
      "    )\n",
      "    (1): BatchNorm2d(32, eps=1e-05, momentum=0.1, affine=True, track_running_stats=True)\n",
      "    (2): Sequential(\n",
      "      (0): Conv2d(32, 32, kernel_size=(3, 3), stride=(1, 1), padding=(1, 1))\n",
      "      (1): ReLU()\n",
      "      (2): MaxPool2d(kernel_size=2, stride=2, padding=0, dilation=1, ceil_mode=False)\n",
      "      (3): Dropout(p=0.2, inplace=False)\n",
      "    )\n",
      "    (3): BatchNorm2d(32, eps=1e-05, momentum=0.1, affine=True, track_running_stats=True)\n",
      "    (4): Sequential(\n",
      "      (0): Conv2d(32, 32, kernel_size=(3, 3), stride=(1, 1), padding=(1, 1))\n",
      "      (1): ReLU()\n",
      "      (2): MaxPool2d(kernel_size=2, stride=2, padding=0, dilation=1, ceil_mode=False)\n",
      "      (3): Dropout(p=0.2, inplace=False)\n",
      "    )\n",
      "    (5): BatchNorm2d(32, eps=1e-05, momentum=0.1, affine=True, track_running_stats=True)\n",
      "    (6): Sequential(\n",
      "      (0): Conv2d(32, 32, kernel_size=(3, 3), stride=(1, 1), padding=(1, 1))\n",
      "      (1): ReLU()\n",
      "      (2): MaxPool2d(kernel_size=2, stride=2, padding=0, dilation=1, ceil_mode=False)\n",
      "      (3): Dropout(p=0.2, inplace=False)\n",
      "    )\n",
      "    (7): BatchNorm2d(32, eps=1e-05, momentum=0.1, affine=True, track_running_stats=True)\n",
      "    (8): Sequential(\n",
      "      (0): Conv2d(32, 32, kernel_size=(3, 3), stride=(1, 1), padding=(1, 1))\n",
      "      (1): ReLU()\n",
      "      (2): MaxPool2d(kernel_size=2, stride=2, padding=0, dilation=1, ceil_mode=False)\n",
      "      (3): Dropout(p=0.2, inplace=False)\n",
      "    )\n",
      "    (9): BatchNorm2d(32, eps=1e-05, momentum=0.1, affine=True, track_running_stats=True)\n",
      "  )\n",
      "  (dense_layers): Sequential(\n",
      "    (0): Flatten(start_dim=1, end_dim=-1)\n",
      "    (1): Linear(in_features=2048, out_features=100, bias=True)\n",
      "    (2): ReLU()\n",
      "    (3): Dropout(p=0.3, inplace=False)\n",
      "    (4): Linear(in_features=100, out_features=10, bias=True)\n",
      "  )\n",
      ")\n"
     ]
    }
   ],
   "source": [
    "\n",
    "\n",
    "class CNN(nn.Module):\n",
    "    def __init__(self, num_classes=10, in_channels=3, num_filters=[32, 32, 32, 32, 32],kernel_size=3, pool_size=2,drop_conv=0.2, drop_dense=0.3,dense_neurons=100,activation=\"ReLU\",activation_dense=\"ReLU\",use_batch_norm=True, use_data_augmentation=True):\n",
    "        super(CNN, self).__init__()\n",
    "        self.conv_layers = nn.ModuleList()\n",
    "        activations = {\n",
    "        \"ReLU\": nn.ReLU(),\n",
    "        \"Tanh\": nn.Tanh(),\n",
    "        \"GELU\": nn.GELU(),\n",
    "        \"SiLU\": nn.SiLU(), \n",
    "        \"Mish\": nn.Mish()}\n",
    "        for out_channels in num_filters:\n",
    "            kernel_size=kernel_size\n",
    "            padding=kernel_size//2\n",
    "\n",
    "            \n",
    "            \n",
    "            activation_function=activations.get(activation, nn.ReLU())\n",
    "            activation_dense_function=activations.get(activation, nn.ReLU())\n",
    "\n",
    "        # Get the\n",
    "            self.conv_layers.append(\n",
    "                nn.Sequential(\n",
    "                    nn.Conv2d(in_channels, out_channels, kernel_size, padding=padding),\n",
    "                    #nn.ReLU(),\n",
    "                    activation_function,\n",
    "                    nn.MaxPool2d(pool_size),\n",
    "                    nn.Dropout(drop_conv)  # Adding dropout with probability 0.2\n",
    "                )\n",
    "            )\n",
    "            \n",
    "            if use_batch_norm:\n",
    "                self.conv_layers.append(nn.BatchNorm2d(out_channels))  # Batch normalization layer\n",
    "            in_channels = out_channels\n",
    "        \n",
    "        # Define dense layers\n",
    "            \n",
    "        self.dense_layers = nn.Sequential(\n",
    "            nn.Flatten(),\n",
    "            nn.Linear(num_filters[-1] * (256 // (pool_size**len(num_filters))) * (256 // (pool_size**len(num_filters))), dense_neurons),\n",
    "            activation_dense_function,\n",
    "            nn.Dropout(drop_dense),  # Adding dropout with probability 0.2\n",
    "            nn.Linear(dense_neurons, num_classes)\n",
    "        )\n",
    "        \n",
    "    def forward(self, x):\n",
    "        # Pass input through convolutional layers\n",
    "        for layer in self.conv_layers:\n",
    "            x = layer(x)\n",
    "        \n",
    "        # Pass output through dense layers\n",
    "        x = self.dense_layers(x)\n",
    "        return x\n",
    "\n",
    "\n",
    "# Instantiate the model\n",
    "model = CNN()\n",
    "print(model)\n"
   ]
  },
  {
   "cell_type": "code",
   "execution_count": 16,
   "metadata": {},
   "outputs": [],
   "source": [
    "\n",
    "\n",
    "\n",
    "def evaluation(dataloader,model):\n",
    "    total, correct = 0, 0\n",
    "    device = torch.device(\"cuda:0\")\n",
    "    for data in dataloader:\n",
    "        inputs, labels = data\n",
    "        inputs, labels = inputs.to(device), labels.to(device)\n",
    "        outputs = model(inputs)\n",
    "        loss_fn = nn.CrossEntropyLoss()\n",
    "\n",
    "        loss = loss_fn(outputs, labels)\n",
    "                \n",
    "        _, pred = torch.max(outputs.data, 1)\n",
    "        total += labels.size(0)\n",
    "        correct += (pred == labels).sum().item()\n",
    "        \n",
    "    return 100 * correct / total,loss.item()"
   ]
  },
  {
   "cell_type": "code",
   "execution_count": 17,
   "metadata": {},
   "outputs": [],
   "source": [
    "def fit(config):\n",
    "#def fit():\n",
    "    \n",
    "    wandb.login() \n",
    "    #wandb.init(project=\"CS6910 A2\",name=\"part a\")\n",
    "    \n",
    "    loss_epoch_arr = []\n",
    "    train_accuracy_arr=[]\n",
    "    validation_accuracy_arr=[]\n",
    "    loss_epoch_val=[]\n",
    "    # early stop \n",
    "    patience = 5  # Number of epochs to wait for improvement before stopping\n",
    "    best_val_loss = float('inf')  # Initialize best validation loss\n",
    "    best_val_acc = 0  # Optionally, you could also track best validation accuracy\n",
    "    no_improvement_count = 0  # \n",
    "    activation = config['activation']\n",
    "    activation_dense = config['activation_dense']\n",
    "    n=config['filter']\n",
    "   \n",
    "    batch_size = config['batch_size']\n",
    "    epochs = config['epochs']\n",
    "    drop_conv=config['drop_conv']\n",
    "    drop_dense=config['drop_dense']\n",
    "    kernel_size=config['kernel_size']\n",
    "    filter_mult=config['filter_mult']\n",
    "    dense_neurons=config['dense']\n",
    "    use_batch_norm=config['batch_normalization']\n",
    "    use_data_augmentation=config['data_augmentation']\n",
    "    trainloader,validationloader,testloader=prepare(batch_size,use_data_augmentation)\n",
    "   \n",
    "    device = torch.device(\"cuda:0\")\n",
    "    if filter_mult == 1:\n",
    "        num_filters = [n, n, n, n, n]\n",
    "    if filter_mult==2:\n",
    "        num_filters = [n* (2 ** i) for i in range(5)]\n",
    "    if filter_mult==0.5:\n",
    "        num_filters = [n//(2 ** i) for i in range(5)]\n",
    "    device = torch.device(\"cuda:0\")\n",
    "    net = CNN(activation_dense=activation_dense,num_filters=num_filters,drop_conv=drop_conv,drop_dense=drop_dense,use_batch_norm=use_batch_norm,use_data_augmentation=use_data_augmentation,dense_neurons=dense_neurons,kernel_size=kernel_size,activation=activation).to(device)\n",
    "       \n",
    "    print(net)\n",
    "    loss_fn = nn.CrossEntropyLoss()\n",
    "    opt = optim.Adam(net.parameters())\n",
    "    n_iters = np.ceil(10000/batch_size)\n",
    "  \n",
    "    min_loss = 1000\n",
    "    for epoch in range(epochs):\n",
    "\n",
    "        for i, data in enumerate(trainloader, 0):\n",
    "\n",
    "            inputs, labels = data\n",
    "            inputs, labels = inputs.to(device), labels.to(device)\n",
    "            opt.zero_grad()\n",
    "            outputs = net(inputs)\n",
    "            train_loss = loss_fn(outputs, labels)\n",
    "            train_loss.backward()\n",
    "            opt.step()\n",
    "            del inputs, labels, outputs\n",
    "            torch.cuda.empty_cache()\n",
    "            if min_loss > train_loss.item():\n",
    "                min_loss = train_loss.item()\n",
    "                best_model = copy.deepcopy(net.state_dict())\n",
    "                print('Min loss %0.2f' % min_loss)\n",
    "                \n",
    "            if i % 1000 == 0:\n",
    "                print('Iteration: %d/%d, Loss: %0.2f' % (i, n_iters, train_loss.item()))\n",
    "            \n",
    "        loss_epoch_arr.append(train_loss.item())\n",
    "        train_accuracy,t_loss=evaluation(trainloader,net)\n",
    "        model.eval()\n",
    "        validation_accuracy,validation_loss=evaluation(validationloader,net)\n",
    "        train_accuracy_arr.append(train_accuracy)\n",
    "        validation_accuracy_arr.append(validation_accuracy)\n",
    "        loss_epoch_val.append(validation_loss)\n",
    "            \n",
    "        print('Epoch: %d/%d, validayion acc: %0.2f,Train acc: %0.2f ,val loss: %0.2f, train loss: %0.2f'%(\n",
    "            epoch, epochs, \n",
    "            validation_accuracy,train_accuracy,validation_loss,train_loss.item()))\n",
    "        \n",
    "        wandb.log({\"accuracy_train\": train_accuracy, \"accuracy_validation\": validation_accuracy, \"loss_train\": train_loss.item(), \"loss_validation\": validation_loss, 'epochs': epoch})\n",
    "        if validation_loss < best_val_loss:\n",
    "            best_val_loss = validation_loss\n",
    "            best_val_acc = validation_accuracy  # Update best validation accuracy if tracking\n",
    "            best_model = copy.deepcopy(net.state_dict())  # Save the best model state\n",
    "            no_improvement_count = 0  # Reset counter\n",
    "            print('Improvement found at epoch {}: validation loss: {}, validation accuracy: {}'.format(epoch, validation_loss, validation_accuracy))\n",
    "        else:\n",
    "            no_improvement_count += 1\n",
    "            print('No improvement in epoch {}. Current validation loss: {}, Best validation loss: {}'.format(epoch, validation_loss, best_val_loss))\n",
    "\n",
    "        # Early stopping check\n",
    "        if no_improvement_count >= patience:\n",
    "            print('No improvement in validation loss for {} consecutive epochs. Stopping training...'.format(patience))\n",
    "            break  # Exit the training loop\n",
    "    \n",
    "        model.train()\n",
    "        \n",
    "        \n",
    "    plt.plot(loss_epoch_arr)\n",
    "    plt.show()\n",
    "    plt.plot(range(1, epochs + 1), train_accuracy_arr, label='Training Accuracy')\n",
    "    plt.plot(range(1, epochs + 1), validation_accuracy_arr, label='Validation Accuracy')\n",
    "    plt.xlabel('Epoch')\n",
    "    plt.ylabel('Accuracy')\n",
    "    plt.title('Training and Validation Accuracy per Epoch')\n",
    "    plt.legend()\n",
    "    plt.grid(True)\n",
    "    best_model_accuracy,best_model_loss=evaluation(validationloader,net)\n",
    "    print('validation acc from best model: %0.2f,val loss: %0.2f'%(best_model_accuracy,best_model_loss))"
   ]
  },
  {
   "cell_type": "code",
   "execution_count": 18,
   "metadata": {},
   "outputs": [],
   "source": [
    "\n",
    "def train():\n",
    "   with wandb.init() as run:\n",
    "        run_name = f'epoch_{wandb.config.epochs}_acti_{wandb.config.activation}_acti_dense_{wandb.config.activation_dense}__batchsize_{wandb.config.batch_size}__kernel_size_{wandb.config.kernel_size}_denseneurons_{wandb.config.dense}_filter_mult_{wandb.config.filter_mult}__drop_conv_{wandb.config.drop_conv}__drop_dense_{wandb.config.drop_dense}_filter_{wandb.config.filter}_aug_{wandb.config.data_augmentation}_batch_norm_{wandb.config.batch_normalization}'\n",
    "        wandb.run.name = run_name\n",
    "        print(run_name)\n",
    "        fit(wandb.config)\n",
    "        wandb.run.save()\n"
   ]
  },
  {
   "cell_type": "code",
   "execution_count": 19,
   "metadata": {},
   "outputs": [
    {
     "name": "stdout",
     "output_type": "stream",
     "text": [
      "Create sweep with ID: 73dz9hxw\n",
      "Sweep URL: https://wandb.ai/bincyantonym/CS6910%20A2/sweeps/73dz9hxw\n"
     ]
    },
    {
     "name": "stderr",
     "output_type": "stream",
     "text": [
      "\u001b[34m\u001b[1mwandb\u001b[0m: Agent Starting Run: v46bgp17 with config:\n",
      "\u001b[34m\u001b[1mwandb\u001b[0m: \tactivation: GELU\n",
      "\u001b[34m\u001b[1mwandb\u001b[0m: \tactivation_dense: ReLU\n",
      "\u001b[34m\u001b[1mwandb\u001b[0m: \tbatch_normalization: Yes\n",
      "\u001b[34m\u001b[1mwandb\u001b[0m: \tbatch_size: 32\n",
      "\u001b[34m\u001b[1mwandb\u001b[0m: \tdata_augmentation: Yes\n",
      "\u001b[34m\u001b[1mwandb\u001b[0m: \tdense: 1000\n",
      "\u001b[34m\u001b[1mwandb\u001b[0m: \tdrop_conv: 0.2\n",
      "\u001b[34m\u001b[1mwandb\u001b[0m: \tdrop_dense: 0.3\n",
      "\u001b[34m\u001b[1mwandb\u001b[0m: \tepochs: 30\n",
      "\u001b[34m\u001b[1mwandb\u001b[0m: \tfilter: 32\n",
      "\u001b[34m\u001b[1mwandb\u001b[0m: \tfilter_mult: 2\n",
      "\u001b[34m\u001b[1mwandb\u001b[0m: \tkernel_size: 3\n",
      "Failed to detect the name of this notebook, you can set it manually with the WANDB_NOTEBOOK_NAME environment variable to enable code saving.\n"
     ]
    },
    {
     "data": {
      "text/html": [
       "wandb version 0.16.6 is available!  To upgrade, please run:\n",
       " $ pip install wandb --upgrade"
      ],
      "text/plain": [
       "<IPython.core.display.HTML object>"
      ]
     },
     "metadata": {},
     "output_type": "display_data"
    },
    {
     "data": {
      "text/html": [
       "Tracking run with wandb version 0.16.5"
      ],
      "text/plain": [
       "<IPython.core.display.HTML object>"
      ]
     },
     "metadata": {},
     "output_type": "display_data"
    },
    {
     "data": {
      "text/html": [
       "Run data is saved locally in <code>/home/agcl/bincy/CS 6910 A2/wandb/run-20240407_130937-v46bgp17</code>"
      ],
      "text/plain": [
       "<IPython.core.display.HTML object>"
      ]
     },
     "metadata": {},
     "output_type": "display_data"
    },
    {
     "data": {
      "text/html": [
       "Syncing run <strong><a href='https://wandb.ai/bincyantonym/CS6910%20A2/runs/v46bgp17/workspace' target=\"_blank\">true-sweep-1</a></strong> to <a href='https://wandb.ai/bincyantonym/CS6910%20A2' target=\"_blank\">Weights & Biases</a> (<a href='https://wandb.me/run' target=\"_blank\">docs</a>)<br/>Sweep page: <a href='https://wandb.ai/bincyantonym/CS6910%20A2/sweeps/73dz9hxw' target=\"_blank\">https://wandb.ai/bincyantonym/CS6910%20A2/sweeps/73dz9hxw</a>"
      ],
      "text/plain": [
       "<IPython.core.display.HTML object>"
      ]
     },
     "metadata": {},
     "output_type": "display_data"
    },
    {
     "data": {
      "text/html": [
       " View project at <a href='https://wandb.ai/bincyantonym/CS6910%20A2' target=\"_blank\">https://wandb.ai/bincyantonym/CS6910%20A2</a>"
      ],
      "text/plain": [
       "<IPython.core.display.HTML object>"
      ]
     },
     "metadata": {},
     "output_type": "display_data"
    },
    {
     "data": {
      "text/html": [
       " View sweep at <a href='https://wandb.ai/bincyantonym/CS6910%20A2/sweeps/73dz9hxw' target=\"_blank\">https://wandb.ai/bincyantonym/CS6910%20A2/sweeps/73dz9hxw</a>"
      ],
      "text/plain": [
       "<IPython.core.display.HTML object>"
      ]
     },
     "metadata": {},
     "output_type": "display_data"
    },
    {
     "data": {
      "text/html": [
       " View run at <a href='https://wandb.ai/bincyantonym/CS6910%20A2/runs/v46bgp17/workspace' target=\"_blank\">https://wandb.ai/bincyantonym/CS6910%20A2/runs/v46bgp17/workspace</a>"
      ],
      "text/plain": [
       "<IPython.core.display.HTML object>"
      ]
     },
     "metadata": {},
     "output_type": "display_data"
    },
    {
     "name": "stderr",
     "output_type": "stream",
     "text": [
      "\u001b[34m\u001b[1mwandb\u001b[0m: \u001b[33mWARNING\u001b[0m Calling wandb.login() after wandb.init() has no effect.\n"
     ]
    },
    {
     "name": "stdout",
     "output_type": "stream",
     "text": [
      "epoch_30_acti_GELU_acti_dense_ReLU__batchsize_32__kernel_size_3_denseneurons_1000_filter_mult_2__drop_conv_0.2__drop_dense_0.3_filter_32_aug_Yes_batch_norm_Yes\n",
      "CNN(\n",
      "  (conv_layers): ModuleList(\n",
      "    (0): Sequential(\n",
      "      (0): Conv2d(3, 32, kernel_size=(3, 3), stride=(1, 1), padding=(1, 1))\n",
      "      (1): GELU(approximate='none')\n",
      "      (2): MaxPool2d(kernel_size=2, stride=2, padding=0, dilation=1, ceil_mode=False)\n",
      "      (3): Dropout(p=0.2, inplace=False)\n",
      "    )\n",
      "    (1): BatchNorm2d(32, eps=1e-05, momentum=0.1, affine=True, track_running_stats=True)\n",
      "    (2): Sequential(\n",
      "      (0): Conv2d(32, 64, kernel_size=(3, 3), stride=(1, 1), padding=(1, 1))\n",
      "      (1): GELU(approximate='none')\n",
      "      (2): MaxPool2d(kernel_size=2, stride=2, padding=0, dilation=1, ceil_mode=False)\n",
      "      (3): Dropout(p=0.2, inplace=False)\n",
      "    )\n",
      "    (3): BatchNorm2d(64, eps=1e-05, momentum=0.1, affine=True, track_running_stats=True)\n",
      "    (4): Sequential(\n",
      "      (0): Conv2d(64, 128, kernel_size=(3, 3), stride=(1, 1), padding=(1, 1))\n",
      "      (1): GELU(approximate='none')\n",
      "      (2): MaxPool2d(kernel_size=2, stride=2, padding=0, dilation=1, ceil_mode=False)\n",
      "      (3): Dropout(p=0.2, inplace=False)\n",
      "    )\n",
      "    (5): BatchNorm2d(128, eps=1e-05, momentum=0.1, affine=True, track_running_stats=True)\n",
      "    (6): Sequential(\n",
      "      (0): Conv2d(128, 256, kernel_size=(3, 3), stride=(1, 1), padding=(1, 1))\n",
      "      (1): GELU(approximate='none')\n",
      "      (2): MaxPool2d(kernel_size=2, stride=2, padding=0, dilation=1, ceil_mode=False)\n",
      "      (3): Dropout(p=0.2, inplace=False)\n",
      "    )\n",
      "    (7): BatchNorm2d(256, eps=1e-05, momentum=0.1, affine=True, track_running_stats=True)\n",
      "    (8): Sequential(\n",
      "      (0): Conv2d(256, 512, kernel_size=(3, 3), stride=(1, 1), padding=(1, 1))\n",
      "      (1): GELU(approximate='none')\n",
      "      (2): MaxPool2d(kernel_size=2, stride=2, padding=0, dilation=1, ceil_mode=False)\n",
      "      (3): Dropout(p=0.2, inplace=False)\n",
      "    )\n",
      "    (9): BatchNorm2d(512, eps=1e-05, momentum=0.1, affine=True, track_running_stats=True)\n",
      "  )\n",
      "  (dense_layers): Sequential(\n",
      "    (0): Flatten(start_dim=1, end_dim=-1)\n",
      "    (1): Linear(in_features=32768, out_features=1000, bias=True)\n",
      "    (2): GELU(approximate='none')\n",
      "    (3): Dropout(p=0.3, inplace=False)\n",
      "    (4): Linear(in_features=1000, out_features=10, bias=True)\n",
      "  )\n",
      ")\n",
      "Min loss 2.28\n",
      "Iteration: 0/313, Loss: 2.28\n",
      "Min loss 2.23\n",
      "Min loss 1.98\n",
      "Min loss 1.95\n",
      "Min loss 1.90\n",
      "Min loss 1.83\n",
      "Epoch: 0/30, validayion acc: 21.85,Train acc: 22.05 ,val loss: 2.77, train loss: 2.12\n",
      "Improvement found at epoch 0: validation loss: 2.7696094512939453, validation accuracy: 21.85\n",
      "Iteration: 0/313, Loss: 2.21\n",
      "Min loss 1.79\n",
      "Min loss 1.76\n",
      "Epoch: 1/30, validayion acc: 23.70,Train acc: 24.57 ,val loss: 2.27, train loss: 2.12\n",
      "Improvement found at epoch 1: validation loss: 2.274904727935791, validation accuracy: 23.7\n",
      "Iteration: 0/313, Loss: 1.91\n",
      "Epoch: 2/30, validayion acc: 22.65,Train acc: 23.63 ,val loss: 1.75, train loss: 1.88\n",
      "Improvement found at epoch 2: validation loss: 1.750407099723816, validation accuracy: 22.65\n",
      "Iteration: 0/313, Loss: 1.95\n",
      "Min loss 1.72\n",
      "Epoch: 3/30, validayion acc: 25.20,Train acc: 25.14 ,val loss: 2.47, train loss: 1.94\n",
      "No improvement in epoch 3. Current validation loss: 2.466254949569702, Best validation loss: 1.750407099723816\n",
      "Iteration: 0/313, Loss: 2.01\n",
      "Epoch: 4/30, validayion acc: 25.10,Train acc: 25.94 ,val loss: 1.97, train loss: 2.04\n",
      "No improvement in epoch 4. Current validation loss: 1.970866322517395, Best validation loss: 1.750407099723816\n",
      "Iteration: 0/313, Loss: 2.13\n",
      "Min loss 1.48\n",
      "Epoch: 5/30, validayion acc: 26.60,Train acc: 27.74 ,val loss: 2.31, train loss: 2.05\n",
      "No improvement in epoch 5. Current validation loss: 2.3133208751678467, Best validation loss: 1.750407099723816\n",
      "Iteration: 0/313, Loss: 2.15\n",
      "Epoch: 6/30, validayion acc: 26.15,Train acc: 27.25 ,val loss: 2.56, train loss: 2.09\n",
      "No improvement in epoch 6. Current validation loss: 2.5628130435943604, Best validation loss: 1.750407099723816\n",
      "Iteration: 0/313, Loss: 2.21\n",
      "Epoch: 7/30, validayion acc: 27.90,Train acc: 27.35 ,val loss: 2.81, train loss: 2.09\n",
      "No improvement in epoch 7. Current validation loss: 2.805521249771118, Best validation loss: 1.750407099723816\n",
      "No improvement in validation loss for 5 consecutive epochs. Stopping training...\n"
     ]
    },
    {
     "data": {
      "image/png": "[encoded data removed]",
      "text/plain": [
       "<Figure size 640x480 with 1 Axes>"
      ]
     },
     "metadata": {},
     "output_type": "display_data"
    },
    {
     "name": "stderr",
     "output_type": "stream",
     "text": [
      "Traceback (most recent call last):\n",
      "  File \"/tmp/ipykernel_59846/571027595.py\", line 6, in train\n",
      "    fit(wandb.config)\n",
      "  File \"/tmp/ipykernel_59846/3001585145.py\", line 101, in fit\n",
      "    plt.plot(range(1, epochs + 1), train_accuracy_arr, label='Training Accuracy')\n",
      "  File \"/home/agcl/anaconda3/envs/A2/lib/python3.12/site-packages/matplotlib/pyplot.py\", line 3590, in plot\n",
      "    return gca().plot(\n",
      "           ^^^^^^^^^^^\n",
      "  File \"/home/agcl/anaconda3/envs/A2/lib/python3.12/site-packages/matplotlib/axes/_axes.py\", line 1724, in plot\n",
      "    lines = [*self._get_lines(self, *args, data=data, **kwargs)]\n",
      "            ^^^^^^^^^^^^^^^^^^^^^^^^^^^^^^^^^^^^^^^^^^^^^^^^^^^^\n",
      "  File \"/home/agcl/anaconda3/envs/A2/lib/python3.12/site-packages/matplotlib/axes/_base.py\", line 303, in __call__\n",
      "    yield from self._plot_args(\n",
      "               ^^^^^^^^^^^^^^^^\n",
      "  File \"/home/agcl/anaconda3/envs/A2/lib/python3.12/site-packages/matplotlib/axes/_base.py\", line 499, in _plot_args\n",
      "    raise ValueError(f\"x and y must have same first dimension, but \"\n",
      "ValueError: x and y must have same first dimension, but have shapes (30,) and (8,)\n"
     ]
    },
    {
     "data": {
      "text/html": [
       "<style>\n",
       "    table.wandb td:nth-child(1) { padding: 0 10px; text-align: left ; width: auto;} td:nth-child(2) {text-align: left ; width: 100%}\n",
       "    .wandb-row { display: flex; flex-direction: row; flex-wrap: wrap; justify-content: flex-start; width: 100% }\n",
       "    .wandb-col { display: flex; flex-direction: column; flex-basis: 100%; flex: 1; padding: 10px; }\n",
       "    </style>\n",
       "<div class=\"wandb-row\"><div class=\"wandb-col\"><h3>Run history:</h3><br/><table class=\"wandb\"><tr><td>accuracy_train</td><td>▁▄▃▅▆█▇█</td></tr><tr><td>accuracy_validation</td><td>▁▃▂▅▅▆▆█</td></tr><tr><td>epochs</td><td>▁▂▃▄▅▆▇█</td></tr><tr><td>loss_train</td><td>██▁▃▆▆▇▇</td></tr><tr><td>loss_validation</td><td>█▄▁▆▂▅▆█</td></tr></table><br/></div><div class=\"wandb-col\"><h3>Run summary:</h3><br/><table class=\"wandb\"><tr><td>accuracy_train</td><td>27.35342</td></tr><tr><td>accuracy_validation</td><td>27.9</td></tr><tr><td>epochs</td><td>7</td></tr><tr><td>loss_train</td><td>2.09366</td></tr><tr><td>loss_validation</td><td>2.80552</td></tr></table><br/></div></div>"
      ],
      "text/plain": [
       "<IPython.core.display.HTML object>"
      ]
     },
     "metadata": {},
     "output_type": "display_data"
    },
    {
     "data": {
      "text/html": [
       " View run <strong style=\"color:#cdcd00\">true-sweep-1</strong> at: <a href='https://wandb.ai/bincyantonym/CS6910%20A2/runs/v46bgp17/workspace' target=\"_blank\">https://wandb.ai/bincyantonym/CS6910%20A2/runs/v46bgp17/workspace</a><br/>Synced 6 W&B file(s), 0 media file(s), 0 artifact file(s) and 0 other file(s)"
      ],
      "text/plain": [
       "<IPython.core.display.HTML object>"
      ]
     },
     "metadata": {},
     "output_type": "display_data"
    },
    {
     "data": {
      "text/html": [
       "Find logs at: <code>./wandb/run-20240407_130937-v46bgp17/logs</code>"
      ],
      "text/plain": [
       "<IPython.core.display.HTML object>"
      ]
     },
     "metadata": {},
     "output_type": "display_data"
    },
    {
     "name": "stderr",
     "output_type": "stream",
     "text": [
      "Run v46bgp17 errored:\n",
      "Traceback (most recent call last):\n",
      "  File \"/home/agcl/anaconda3/envs/A2/lib/python3.12/site-packages/wandb/agents/pyagent.py\", line 308, in _run_job\n",
      "    self._function()\n",
      "  File \"/tmp/ipykernel_59846/571027595.py\", line 6, in train\n",
      "    fit(wandb.config)\n",
      "  File \"/tmp/ipykernel_59846/3001585145.py\", line 101, in fit\n",
      "    plt.plot(range(1, epochs + 1), train_accuracy_arr, label='Training Accuracy')\n",
      "  File \"/home/agcl/anaconda3/envs/A2/lib/python3.12/site-packages/matplotlib/pyplot.py\", line 3590, in plot\n",
      "    return gca().plot(\n",
      "           ^^^^^^^^^^^\n",
      "  File \"/home/agcl/anaconda3/envs/A2/lib/python3.12/site-packages/matplotlib/axes/_axes.py\", line 1724, in plot\n",
      "    lines = [*self._get_lines(self, *args, data=data, **kwargs)]\n",
      "            ^^^^^^^^^^^^^^^^^^^^^^^^^^^^^^^^^^^^^^^^^^^^^^^^^^^^\n",
      "  File \"/home/agcl/anaconda3/envs/A2/lib/python3.12/site-packages/matplotlib/axes/_base.py\", line 303, in __call__\n",
      "    yield from self._plot_args(\n",
      "               ^^^^^^^^^^^^^^^^\n",
      "  File \"/home/agcl/anaconda3/envs/A2/lib/python3.12/site-packages/matplotlib/axes/_base.py\", line 499, in _plot_args\n",
      "    raise ValueError(f\"x and y must have same first dimension, but \"\n",
      "ValueError: x and y must have same first dimension, but have shapes (30,) and (8,)\n",
      "\n",
      "\u001b[34m\u001b[1mwandb\u001b[0m: \u001b[32m\u001b[41mERROR\u001b[0m Run v46bgp17 errored:\n",
      "\u001b[34m\u001b[1mwandb\u001b[0m: \u001b[32m\u001b[41mERROR\u001b[0m Traceback (most recent call last):\n",
      "\u001b[34m\u001b[1mwandb\u001b[0m: \u001b[32m\u001b[41mERROR\u001b[0m   File \"/home/agcl/anaconda3/envs/A2/lib/python3.12/site-packages/wandb/agents/pyagent.py\", line 308, in _run_job\n",
      "\u001b[34m\u001b[1mwandb\u001b[0m: \u001b[32m\u001b[41mERROR\u001b[0m     self._function()\n",
      "\u001b[34m\u001b[1mwandb\u001b[0m: \u001b[32m\u001b[41mERROR\u001b[0m   File \"/tmp/ipykernel_59846/571027595.py\", line 6, in train\n",
      "\u001b[34m\u001b[1mwandb\u001b[0m: \u001b[32m\u001b[41mERROR\u001b[0m     fit(wandb.config)\n",
      "\u001b[34m\u001b[1mwandb\u001b[0m: \u001b[32m\u001b[41mERROR\u001b[0m   File \"/tmp/ipykernel_59846/3001585145.py\", line 101, in fit\n",
      "\u001b[34m\u001b[1mwandb\u001b[0m: \u001b[32m\u001b[41mERROR\u001b[0m     plt.plot(range(1, epochs + 1), train_accuracy_arr, label='Training Accuracy')\n",
      "\u001b[34m\u001b[1mwandb\u001b[0m: \u001b[32m\u001b[41mERROR\u001b[0m   File \"/home/agcl/anaconda3/envs/A2/lib/python3.12/site-packages/matplotlib/pyplot.py\", line 3590, in plot\n",
      "\u001b[34m\u001b[1mwandb\u001b[0m: \u001b[32m\u001b[41mERROR\u001b[0m     return gca().plot(\n",
      "\u001b[34m\u001b[1mwandb\u001b[0m: \u001b[32m\u001b[41mERROR\u001b[0m            ^^^^^^^^^^^\n",
      "\u001b[34m\u001b[1mwandb\u001b[0m: \u001b[32m\u001b[41mERROR\u001b[0m   File \"/home/agcl/anaconda3/envs/A2/lib/python3.12/site-packages/matplotlib/axes/_axes.py\", line 1724, in plot\n",
      "\u001b[34m\u001b[1mwandb\u001b[0m: \u001b[32m\u001b[41mERROR\u001b[0m     lines = [*self._get_lines(self, *args, data=data, **kwargs)]\n",
      "\u001b[34m\u001b[1mwandb\u001b[0m: \u001b[32m\u001b[41mERROR\u001b[0m             ^^^^^^^^^^^^^^^^^^^^^^^^^^^^^^^^^^^^^^^^^^^^^^^^^^^^\n",
      "\u001b[34m\u001b[1mwandb\u001b[0m: \u001b[32m\u001b[41mERROR\u001b[0m   File \"/home/agcl/anaconda3/envs/A2/lib/python3.12/site-packages/matplotlib/axes/_base.py\", line 303, in __call__\n",
      "\u001b[34m\u001b[1mwandb\u001b[0m: \u001b[32m\u001b[41mERROR\u001b[0m     yield from self._plot_args(\n",
      "\u001b[34m\u001b[1mwandb\u001b[0m: \u001b[32m\u001b[41mERROR\u001b[0m                ^^^^^^^^^^^^^^^^\n",
      "\u001b[34m\u001b[1mwandb\u001b[0m: \u001b[32m\u001b[41mERROR\u001b[0m   File \"/home/agcl/anaconda3/envs/A2/lib/python3.12/site-packages/matplotlib/axes/_base.py\", line 499, in _plot_args\n",
      "\u001b[34m\u001b[1mwandb\u001b[0m: \u001b[32m\u001b[41mERROR\u001b[0m     raise ValueError(f\"x and y must have same first dimension, but \"\n",
      "\u001b[34m\u001b[1mwandb\u001b[0m: \u001b[32m\u001b[41mERROR\u001b[0m ValueError: x and y must have same first dimension, but have shapes (30,) and (8,)\n",
      "\u001b[34m\u001b[1mwandb\u001b[0m: \u001b[32m\u001b[41mERROR\u001b[0m \n",
      "\u001b[34m\u001b[1mwandb\u001b[0m: Agent Starting Run: zje5i162 with config:\n",
      "\u001b[34m\u001b[1mwandb\u001b[0m: \tactivation: SiLU\n",
      "\u001b[34m\u001b[1mwandb\u001b[0m: \tactivation_dense: GELU\n",
      "\u001b[34m\u001b[1mwandb\u001b[0m: \tbatch_normalization: Yes\n",
      "\u001b[34m\u001b[1mwandb\u001b[0m: \tbatch_size: 32\n",
      "\u001b[34m\u001b[1mwandb\u001b[0m: \tdata_augmentation: Yes\n",
      "\u001b[34m\u001b[1mwandb\u001b[0m: \tdense: 1000\n",
      "\u001b[34m\u001b[1mwandb\u001b[0m: \tdrop_conv: 0.2\n",
      "\u001b[34m\u001b[1mwandb\u001b[0m: \tdrop_dense: 0.3\n",
      "\u001b[34m\u001b[1mwandb\u001b[0m: \tepochs: 30\n",
      "\u001b[34m\u001b[1mwandb\u001b[0m: \tfilter: 32\n",
      "\u001b[34m\u001b[1mwandb\u001b[0m: \tfilter_mult: 0.5\n",
      "\u001b[34m\u001b[1mwandb\u001b[0m: \tkernel_size: 3\n",
      "Failed to detect the name of this notebook, you can set it manually with the WANDB_NOTEBOOK_NAME environment variable to enable code saving.\n"
     ]
    },
    {
     "data": {
      "text/html": [
       "wandb version 0.16.6 is available!  To upgrade, please run:\n",
       " $ pip install wandb --upgrade"
      ],
      "text/plain": [
       "<IPython.core.display.HTML object>"
      ]
     },
     "metadata": {},
     "output_type": "display_data"
    },
    {
     "data": {
      "text/html": [
       "Tracking run with wandb version 0.16.5"
      ],
      "text/plain": [
       "<IPython.core.display.HTML object>"
      ]
     },
     "metadata": {},
     "output_type": "display_data"
    },
    {
     "data": {
      "text/html": [
       "Run data is saved locally in <code>/home/agcl/bincy/CS 6910 A2/wandb/run-20240407_133150-zje5i162</code>"
      ],
      "text/plain": [
       "<IPython.core.display.HTML object>"
      ]
     },
     "metadata": {},
     "output_type": "display_data"
    },
    {
     "data": {
      "text/html": [
       "Syncing run <strong><a href='https://wandb.ai/bincyantonym/CS6910%20A2/runs/zje5i162/workspace' target=\"_blank\">pretty-sweep-2</a></strong> to <a href='https://wandb.ai/bincyantonym/CS6910%20A2' target=\"_blank\">Weights & Biases</a> (<a href='https://wandb.me/run' target=\"_blank\">docs</a>)<br/>Sweep page: <a href='https://wandb.ai/bincyantonym/CS6910%20A2/sweeps/73dz9hxw' target=\"_blank\">https://wandb.ai/bincyantonym/CS6910%20A2/sweeps/73dz9hxw</a>"
      ],
      "text/plain": [
       "<IPython.core.display.HTML object>"
      ]
     },
     "metadata": {},
     "output_type": "display_data"
    },
    {
     "data": {
      "text/html": [
       " View project at <a href='https://wandb.ai/bincyantonym/CS6910%20A2' target=\"_blank\">https://wandb.ai/bincyantonym/CS6910%20A2</a>"
      ],
      "text/plain": [
       "<IPython.core.display.HTML object>"
      ]
     },
     "metadata": {},
     "output_type": "display_data"
    },
    {
     "data": {
      "text/html": [
       " View sweep at <a href='https://wandb.ai/bincyantonym/CS6910%20A2/sweeps/73dz9hxw' target=\"_blank\">https://wandb.ai/bincyantonym/CS6910%20A2/sweeps/73dz9hxw</a>"
      ],
      "text/plain": [
       "<IPython.core.display.HTML object>"
      ]
     },
     "metadata": {},
     "output_type": "display_data"
    },
    {
     "data": {
      "text/html": [
       " View run at <a href='https://wandb.ai/bincyantonym/CS6910%20A2/runs/zje5i162/workspace' target=\"_blank\">https://wandb.ai/bincyantonym/CS6910%20A2/runs/zje5i162/workspace</a>"
      ],
      "text/plain": [
       "<IPython.core.display.HTML object>"
      ]
     },
     "metadata": {},
     "output_type": "display_data"
    },
    {
     "name": "stderr",
     "output_type": "stream",
     "text": [
      "\u001b[34m\u001b[1mwandb\u001b[0m: \u001b[33mWARNING\u001b[0m Calling wandb.login() after wandb.init() has no effect.\n"
     ]
    },
    {
     "name": "stdout",
     "output_type": "stream",
     "text": [
      "epoch_30_acti_SiLU_acti_dense_GELU__batchsize_32__kernel_size_3_denseneurons_1000_filter_mult_0.5__drop_conv_0.2__drop_dense_0.3_filter_32_aug_Yes_batch_norm_Yes\n",
      "CNN(\n",
      "  (conv_layers): ModuleList(\n",
      "    (0): Sequential(\n",
      "      (0): Conv2d(3, 32, kernel_size=(3, 3), stride=(1, 1), padding=(1, 1))\n",
      "      (1): SiLU()\n",
      "      (2): MaxPool2d(kernel_size=2, stride=2, padding=0, dilation=1, ceil_mode=False)\n",
      "      (3): Dropout(p=0.2, inplace=False)\n",
      "    )\n",
      "    (1): BatchNorm2d(32, eps=1e-05, momentum=0.1, affine=True, track_running_stats=True)\n",
      "    (2): Sequential(\n",
      "      (0): Conv2d(32, 16, kernel_size=(3, 3), stride=(1, 1), padding=(1, 1))\n",
      "      (1): SiLU()\n",
      "      (2): MaxPool2d(kernel_size=2, stride=2, padding=0, dilation=1, ceil_mode=False)\n",
      "      (3): Dropout(p=0.2, inplace=False)\n",
      "    )\n",
      "    (3): BatchNorm2d(16, eps=1e-05, momentum=0.1, affine=True, track_running_stats=True)\n",
      "    (4): Sequential(\n",
      "      (0): Conv2d(16, 8, kernel_size=(3, 3), stride=(1, 1), padding=(1, 1))\n",
      "      (1): SiLU()\n",
      "      (2): MaxPool2d(kernel_size=2, stride=2, padding=0, dilation=1, ceil_mode=False)\n",
      "      (3): Dropout(p=0.2, inplace=False)\n",
      "    )\n",
      "    (5): BatchNorm2d(8, eps=1e-05, momentum=0.1, affine=True, track_running_stats=True)\n",
      "    (6): Sequential(\n",
      "      (0): Conv2d(8, 4, kernel_size=(3, 3), stride=(1, 1), padding=(1, 1))\n",
      "      (1): SiLU()\n",
      "      (2): MaxPool2d(kernel_size=2, stride=2, padding=0, dilation=1, ceil_mode=False)\n",
      "      (3): Dropout(p=0.2, inplace=False)\n",
      "    )\n",
      "    (7): BatchNorm2d(4, eps=1e-05, momentum=0.1, affine=True, track_running_stats=True)\n",
      "    (8): Sequential(\n",
      "      (0): Conv2d(4, 2, kernel_size=(3, 3), stride=(1, 1), padding=(1, 1))\n",
      "      (1): SiLU()\n",
      "      (2): MaxPool2d(kernel_size=2, stride=2, padding=0, dilation=1, ceil_mode=False)\n",
      "      (3): Dropout(p=0.2, inplace=False)\n",
      "    )\n",
      "    (9): BatchNorm2d(2, eps=1e-05, momentum=0.1, affine=True, track_running_stats=True)\n",
      "  )\n",
      "  (dense_layers): Sequential(\n",
      "    (0): Flatten(start_dim=1, end_dim=-1)\n",
      "    (1): Linear(in_features=128, out_features=1000, bias=True)\n",
      "    (2): SiLU()\n",
      "    (3): Dropout(p=0.3, inplace=False)\n",
      "    (4): Linear(in_features=1000, out_features=10, bias=True)\n",
      "  )\n",
      ")\n",
      "Min loss 2.28\n",
      "Iteration: 0/313, Loss: 2.28\n",
      "Min loss 2.23\n",
      "Min loss 2.12\n",
      "Min loss 2.09\n",
      "Min loss 2.04\n",
      "Min loss 2.02\n",
      "Min loss 2.02\n",
      "Min loss 1.94\n",
      "Epoch: 0/30, validayion acc: 21.50,Train acc: 21.77 ,val loss: 2.09, train loss: 2.04\n",
      "Improvement found at epoch 0: validation loss: 2.090519905090332, validation accuracy: 21.5\n",
      "Iteration: 0/313, Loss: 2.23\n",
      "Min loss 1.91\n",
      "Min loss 1.90\n",
      "Min loss 1.86\n",
      "Min loss 1.77\n",
      "Epoch: 1/30, validayion acc: 24.25,Train acc: 25.08 ,val loss: 2.27, train loss: 2.24\n",
      "No improvement in epoch 1. Current validation loss: 2.2671587467193604, Best validation loss: 2.090519905090332\n",
      "Iteration: 0/313, Loss: 2.05\n",
      "Min loss 1.74\n",
      "Min loss 1.72\n",
      "Min loss 1.70\n",
      "Epoch: 2/30, validayion acc: 24.70,Train acc: 26.02 ,val loss: 2.21, train loss: 2.05\n",
      "No improvement in epoch 2. Current validation loss: 2.2123053073883057, Best validation loss: 2.090519905090332\n",
      "Iteration: 0/313, Loss: 2.11\n",
      "Min loss 1.63\n",
      "Epoch: 3/30, validayion acc: 26.45,Train acc: 27.57 ,val loss: 2.02, train loss: 2.19\n",
      "Improvement found at epoch 3: validation loss: 2.0219171047210693, validation accuracy: 26.45\n",
      "Iteration: 0/313, Loss: 2.18\n",
      "Epoch: 4/30, validayion acc: 27.90,Train acc: 29.04 ,val loss: 2.10, train loss: 1.87\n",
      "No improvement in epoch 4. Current validation loss: 2.1011295318603516, Best validation loss: 2.0219171047210693\n",
      "Iteration: 0/313, Loss: 2.09\n",
      "Min loss 1.61\n",
      "Epoch: 5/30, validayion acc: 27.10,Train acc: 28.94 ,val loss: 2.13, train loss: 1.94\n",
      "No improvement in epoch 5. Current validation loss: 2.1255156993865967, Best validation loss: 2.0219171047210693\n",
      "Iteration: 0/313, Loss: 2.09\n",
      "Min loss 1.57\n",
      "Epoch: 6/30, validayion acc: 27.25,Train acc: 28.32 ,val loss: 2.20, train loss: 1.95\n",
      "No improvement in epoch 6. Current validation loss: 2.2023019790649414, Best validation loss: 2.0219171047210693\n",
      "Iteration: 0/313, Loss: 2.06\n",
      "Epoch: 7/30, validayion acc: 28.10,Train acc: 30.38 ,val loss: 2.22, train loss: 2.04\n",
      "No improvement in epoch 7. Current validation loss: 2.22371768951416, Best validation loss: 2.0219171047210693\n",
      "Iteration: 0/313, Loss: 2.00\n",
      "Min loss 1.53\n",
      "Epoch: 8/30, validayion acc: 28.15,Train acc: 30.29 ,val loss: 2.07, train loss: 2.00\n",
      "No improvement in epoch 8. Current validation loss: 2.0677828788757324, Best validation loss: 2.0219171047210693\n",
      "No improvement in validation loss for 5 consecutive epochs. Stopping training...\n"
     ]
    },
    {
     "data": {
      "image/png": "[encoded data removed]",
      "text/plain": [
       "<Figure size 640x480 with 1 Axes>"
      ]
     },
     "metadata": {},
     "output_type": "display_data"
    },
    {
     "name": "stderr",
     "output_type": "stream",
     "text": [
      "Traceback (most recent call last):\n",
      "  File \"/tmp/ipykernel_59846/571027595.py\", line 6, in train\n",
      "    fit(wandb.config)\n",
      "  File \"/tmp/ipykernel_59846/3001585145.py\", line 101, in fit\n",
      "    plt.plot(range(1, epochs + 1), train_accuracy_arr, label='Training Accuracy')\n",
      "  File \"/home/agcl/anaconda3/envs/A2/lib/python3.12/site-packages/matplotlib/pyplot.py\", line 3590, in plot\n",
      "    return gca().plot(\n",
      "           ^^^^^^^^^^^\n",
      "  File \"/home/agcl/anaconda3/envs/A2/lib/python3.12/site-packages/matplotlib/axes/_axes.py\", line 1724, in plot\n",
      "    lines = [*self._get_lines(self, *args, data=data, **kwargs)]\n",
      "            ^^^^^^^^^^^^^^^^^^^^^^^^^^^^^^^^^^^^^^^^^^^^^^^^^^^^\n",
      "  File \"/home/agcl/anaconda3/envs/A2/lib/python3.12/site-packages/matplotlib/axes/_base.py\", line 303, in __call__\n",
      "    yield from self._plot_args(\n",
      "               ^^^^^^^^^^^^^^^^\n",
      "  File \"/home/agcl/anaconda3/envs/A2/lib/python3.12/site-packages/matplotlib/axes/_base.py\", line 499, in _plot_args\n",
      "    raise ValueError(f\"x and y must have same first dimension, but \"\n",
      "ValueError: x and y must have same first dimension, but have shapes (30,) and (9,)\n"
     ]
    },
    {
     "data": {
      "text/html": [
       "<style>\n",
       "    table.wandb td:nth-child(1) { padding: 0 10px; text-align: left ; width: auto;} td:nth-child(2) {text-align: left ; width: 100%}\n",
       "    .wandb-row { display: flex; flex-direction: row; flex-wrap: wrap; justify-content: flex-start; width: 100% }\n",
       "    .wandb-col { display: flex; flex-direction: column; flex-basis: 100%; flex: 1; padding: 10px; }\n",
       "    </style>\n",
       "<div class=\"wandb-row\"><div class=\"wandb-col\"><h3>Run history:</h3><br/><table class=\"wandb\"><tr><td>accuracy_train</td><td>▁▄▄▆▇▇▆██</td></tr><tr><td>accuracy_validation</td><td>▁▄▄▆█▇▇██</td></tr><tr><td>epochs</td><td>▁▂▃▄▅▅▆▇█</td></tr><tr><td>loss_train</td><td>▄█▅▇▁▂▃▄▄</td></tr><tr><td>loss_validation</td><td>▃█▆▁▃▄▆▇▂</td></tr></table><br/></div><div class=\"wandb-col\"><h3>Run summary:</h3><br/><table class=\"wandb\"><tr><td>accuracy_train</td><td>30.29129</td></tr><tr><td>accuracy_validation</td><td>28.15</td></tr><tr><td>epochs</td><td>8</td></tr><tr><td>loss_train</td><td>1.99859</td></tr><tr><td>loss_validation</td><td>2.06778</td></tr></table><br/></div></div>"
      ],
      "text/plain": [
       "<IPython.core.display.HTML object>"
      ]
     },
     "metadata": {},
     "output_type": "display_data"
    },
    {
     "data": {
      "text/html": [
       " View run <strong style=\"color:#cdcd00\">pretty-sweep-2</strong> at: <a href='https://wandb.ai/bincyantonym/CS6910%20A2/runs/zje5i162/workspace' target=\"_blank\">https://wandb.ai/bincyantonym/CS6910%20A2/runs/zje5i162/workspace</a><br/>Synced 6 W&B file(s), 0 media file(s), 0 artifact file(s) and 0 other file(s)"
      ],
      "text/plain": [
       "<IPython.core.display.HTML object>"
      ]
     },
     "metadata": {},
     "output_type": "display_data"
    },
    {
     "data": {
      "text/html": [
       "Find logs at: <code>./wandb/run-20240407_133150-zje5i162/logs</code>"
      ],
      "text/plain": [
       "<IPython.core.display.HTML object>"
      ]
     },
     "metadata": {},
     "output_type": "display_data"
    },
    {
     "name": "stderr",
     "output_type": "stream",
     "text": [
      "Run zje5i162 errored:\n",
      "Traceback (most recent call last):\n",
      "  File \"/home/agcl/anaconda3/envs/A2/lib/python3.12/site-packages/wandb/agents/pyagent.py\", line 308, in _run_job\n",
      "    self._function()\n",
      "  File \"/tmp/ipykernel_59846/571027595.py\", line 6, in train\n",
      "    fit(wandb.config)\n",
      "  File \"/tmp/ipykernel_59846/3001585145.py\", line 101, in fit\n",
      "    plt.plot(range(1, epochs + 1), train_accuracy_arr, label='Training Accuracy')\n",
      "  File \"/home/agcl/anaconda3/envs/A2/lib/python3.12/site-packages/matplotlib/pyplot.py\", line 3590, in plot\n",
      "    return gca().plot(\n",
      "           ^^^^^^^^^^^\n",
      "  File \"/home/agcl/anaconda3/envs/A2/lib/python3.12/site-packages/matplotlib/axes/_axes.py\", line 1724, in plot\n",
      "    lines = [*self._get_lines(self, *args, data=data, **kwargs)]\n",
      "            ^^^^^^^^^^^^^^^^^^^^^^^^^^^^^^^^^^^^^^^^^^^^^^^^^^^^\n",
      "  File \"/home/agcl/anaconda3/envs/A2/lib/python3.12/site-packages/matplotlib/axes/_base.py\", line 303, in __call__\n",
      "    yield from self._plot_args(\n",
      "               ^^^^^^^^^^^^^^^^\n",
      "  File \"/home/agcl/anaconda3/envs/A2/lib/python3.12/site-packages/matplotlib/axes/_base.py\", line 499, in _plot_args\n",
      "    raise ValueError(f\"x and y must have same first dimension, but \"\n",
      "ValueError: x and y must have same first dimension, but have shapes (30,) and (9,)\n",
      "\n",
      "\u001b[34m\u001b[1mwandb\u001b[0m: \u001b[32m\u001b[41mERROR\u001b[0m Run zje5i162 errored:\n",
      "\u001b[34m\u001b[1mwandb\u001b[0m: \u001b[32m\u001b[41mERROR\u001b[0m Traceback (most recent call last):\n",
      "\u001b[34m\u001b[1mwandb\u001b[0m: \u001b[32m\u001b[41mERROR\u001b[0m   File \"/home/agcl/anaconda3/envs/A2/lib/python3.12/site-packages/wandb/agents/pyagent.py\", line 308, in _run_job\n",
      "\u001b[34m\u001b[1mwandb\u001b[0m: \u001b[32m\u001b[41mERROR\u001b[0m     self._function()\n",
      "\u001b[34m\u001b[1mwandb\u001b[0m: \u001b[32m\u001b[41mERROR\u001b[0m   File \"/tmp/ipykernel_59846/571027595.py\", line 6, in train\n",
      "\u001b[34m\u001b[1mwandb\u001b[0m: \u001b[32m\u001b[41mERROR\u001b[0m     fit(wandb.config)\n",
      "\u001b[34m\u001b[1mwandb\u001b[0m: \u001b[32m\u001b[41mERROR\u001b[0m   File \"/tmp/ipykernel_59846/3001585145.py\", line 101, in fit\n",
      "\u001b[34m\u001b[1mwandb\u001b[0m: \u001b[32m\u001b[41mERROR\u001b[0m     plt.plot(range(1, epochs + 1), train_accuracy_arr, label='Training Accuracy')\n",
      "\u001b[34m\u001b[1mwandb\u001b[0m: \u001b[32m\u001b[41mERROR\u001b[0m   File \"/home/agcl/anaconda3/envs/A2/lib/python3.12/site-packages/matplotlib/pyplot.py\", line 3590, in plot\n",
      "\u001b[34m\u001b[1mwandb\u001b[0m: \u001b[32m\u001b[41mERROR\u001b[0m     return gca().plot(\n",
      "\u001b[34m\u001b[1mwandb\u001b[0m: \u001b[32m\u001b[41mERROR\u001b[0m            ^^^^^^^^^^^\n",
      "\u001b[34m\u001b[1mwandb\u001b[0m: \u001b[32m\u001b[41mERROR\u001b[0m   File \"/home/agcl/anaconda3/envs/A2/lib/python3.12/site-packages/matplotlib/axes/_axes.py\", line 1724, in plot\n",
      "\u001b[34m\u001b[1mwandb\u001b[0m: \u001b[32m\u001b[41mERROR\u001b[0m     lines = [*self._get_lines(self, *args, data=data, **kwargs)]\n",
      "\u001b[34m\u001b[1mwandb\u001b[0m: \u001b[32m\u001b[41mERROR\u001b[0m             ^^^^^^^^^^^^^^^^^^^^^^^^^^^^^^^^^^^^^^^^^^^^^^^^^^^^\n",
      "\u001b[34m\u001b[1mwandb\u001b[0m: \u001b[32m\u001b[41mERROR\u001b[0m   File \"/home/agcl/anaconda3/envs/A2/lib/python3.12/site-packages/matplotlib/axes/_base.py\", line 303, in __call__\n",
      "\u001b[34m\u001b[1mwandb\u001b[0m: \u001b[32m\u001b[41mERROR\u001b[0m     yield from self._plot_args(\n",
      "\u001b[34m\u001b[1mwandb\u001b[0m: \u001b[32m\u001b[41mERROR\u001b[0m                ^^^^^^^^^^^^^^^^\n",
      "\u001b[34m\u001b[1mwandb\u001b[0m: \u001b[32m\u001b[41mERROR\u001b[0m   File \"/home/agcl/anaconda3/envs/A2/lib/python3.12/site-packages/matplotlib/axes/_base.py\", line 499, in _plot_args\n",
      "\u001b[34m\u001b[1mwandb\u001b[0m: \u001b[32m\u001b[41mERROR\u001b[0m     raise ValueError(f\"x and y must have same first dimension, but \"\n",
      "\u001b[34m\u001b[1mwandb\u001b[0m: \u001b[32m\u001b[41mERROR\u001b[0m ValueError: x and y must have same first dimension, but have shapes (30,) and (9,)\n",
      "\u001b[34m\u001b[1mwandb\u001b[0m: \u001b[32m\u001b[41mERROR\u001b[0m \n",
      "\u001b[34m\u001b[1mwandb\u001b[0m: Agent Starting Run: a8b1p5gp with config:\n",
      "\u001b[34m\u001b[1mwandb\u001b[0m: \tactivation: GELU\n",
      "\u001b[34m\u001b[1mwandb\u001b[0m: \tactivation_dense: SiLU\n",
      "\u001b[34m\u001b[1mwandb\u001b[0m: \tbatch_normalization: Yes\n",
      "\u001b[34m\u001b[1mwandb\u001b[0m: \tbatch_size: 32\n",
      "\u001b[34m\u001b[1mwandb\u001b[0m: \tdata_augmentation: Yes\n",
      "\u001b[34m\u001b[1mwandb\u001b[0m: \tdense: 256\n",
      "\u001b[34m\u001b[1mwandb\u001b[0m: \tdrop_conv: 0.2\n",
      "\u001b[34m\u001b[1mwandb\u001b[0m: \tdrop_dense: 0.2\n",
      "\u001b[34m\u001b[1mwandb\u001b[0m: \tepochs: 30\n",
      "\u001b[34m\u001b[1mwandb\u001b[0m: \tfilter: 32\n",
      "\u001b[34m\u001b[1mwandb\u001b[0m: \tfilter_mult: 1\n",
      "\u001b[34m\u001b[1mwandb\u001b[0m: \tkernel_size: 3\n",
      "Failed to detect the name of this notebook, you can set it manually with the WANDB_NOTEBOOK_NAME environment variable to enable code saving.\n"
     ]
    },
    {
     "data": {
      "text/html": [
       "wandb version 0.16.6 is available!  To upgrade, please run:\n",
       " $ pip install wandb --upgrade"
      ],
      "text/plain": [
       "<IPython.core.display.HTML object>"
      ]
     },
     "metadata": {},
     "output_type": "display_data"
    },
    {
     "data": {
      "text/html": [
       "Tracking run with wandb version 0.16.5"
      ],
      "text/plain": [
       "<IPython.core.display.HTML object>"
      ]
     },
     "metadata": {},
     "output_type": "display_data"
    },
    {
     "data": {
      "text/html": [
       "Run data is saved locally in <code>/home/agcl/bincy/CS 6910 A2/wandb/run-20240407_135505-a8b1p5gp</code>"
      ],
      "text/plain": [
       "<IPython.core.display.HTML object>"
      ]
     },
     "metadata": {},
     "output_type": "display_data"
    },
    {
     "data": {
      "text/html": [
       "Syncing run <strong><a href='https://wandb.ai/bincyantonym/CS6910%20A2/runs/a8b1p5gp/workspace' target=\"_blank\">logical-sweep-3</a></strong> to <a href='https://wandb.ai/bincyantonym/CS6910%20A2' target=\"_blank\">Weights & Biases</a> (<a href='https://wandb.me/run' target=\"_blank\">docs</a>)<br/>Sweep page: <a href='https://wandb.ai/bincyantonym/CS6910%20A2/sweeps/73dz9hxw' target=\"_blank\">https://wandb.ai/bincyantonym/CS6910%20A2/sweeps/73dz9hxw</a>"
      ],
      "text/plain": [
       "<IPython.core.display.HTML object>"
      ]
     },
     "metadata": {},
     "output_type": "display_data"
    },
    {
     "data": {
      "text/html": [
       " View project at <a href='https://wandb.ai/bincyantonym/CS6910%20A2' target=\"_blank\">https://wandb.ai/bincyantonym/CS6910%20A2</a>"
      ],
      "text/plain": [
       "<IPython.core.display.HTML object>"
      ]
     },
     "metadata": {},
     "output_type": "display_data"
    },
    {
     "data": {
      "text/html": [
       " View sweep at <a href='https://wandb.ai/bincyantonym/CS6910%20A2/sweeps/73dz9hxw' target=\"_blank\">https://wandb.ai/bincyantonym/CS6910%20A2/sweeps/73dz9hxw</a>"
      ],
      "text/plain": [
       "<IPython.core.display.HTML object>"
      ]
     },
     "metadata": {},
     "output_type": "display_data"
    },
    {
     "data": {
      "text/html": [
       " View run at <a href='https://wandb.ai/bincyantonym/CS6910%20A2/runs/a8b1p5gp/workspace' target=\"_blank\">https://wandb.ai/bincyantonym/CS6910%20A2/runs/a8b1p5gp/workspace</a>"
      ],
      "text/plain": [
       "<IPython.core.display.HTML object>"
      ]
     },
     "metadata": {},
     "output_type": "display_data"
    },
    {
     "name": "stderr",
     "output_type": "stream",
     "text": [
      "\u001b[34m\u001b[1mwandb\u001b[0m: \u001b[33mWARNING\u001b[0m Calling wandb.login() after wandb.init() has no effect.\n"
     ]
    },
    {
     "name": "stdout",
     "output_type": "stream",
     "text": [
      "epoch_30_acti_GELU_acti_dense_SiLU__batchsize_32__kernel_size_3_denseneurons_256_filter_mult_1__drop_conv_0.2__drop_dense_0.2_filter_32_aug_Yes_batch_norm_Yes\n",
      "CNN(\n",
      "  (conv_layers): ModuleList(\n",
      "    (0): Sequential(\n",
      "      (0): Conv2d(3, 32, kernel_size=(3, 3), stride=(1, 1), padding=(1, 1))\n",
      "      (1): GELU(approximate='none')\n",
      "      (2): MaxPool2d(kernel_size=2, stride=2, padding=0, dilation=1, ceil_mode=False)\n",
      "      (3): Dropout(p=0.2, inplace=False)\n",
      "    )\n",
      "    (1): BatchNorm2d(32, eps=1e-05, momentum=0.1, affine=True, track_running_stats=True)\n",
      "    (2): Sequential(\n",
      "      (0): Conv2d(32, 32, kernel_size=(3, 3), stride=(1, 1), padding=(1, 1))\n",
      "      (1): GELU(approximate='none')\n",
      "      (2): MaxPool2d(kernel_size=2, stride=2, padding=0, dilation=1, ceil_mode=False)\n",
      "      (3): Dropout(p=0.2, inplace=False)\n",
      "    )\n",
      "    (3): BatchNorm2d(32, eps=1e-05, momentum=0.1, affine=True, track_running_stats=True)\n",
      "    (4): Sequential(\n",
      "      (0): Conv2d(32, 32, kernel_size=(3, 3), stride=(1, 1), padding=(1, 1))\n",
      "      (1): GELU(approximate='none')\n",
      "      (2): MaxPool2d(kernel_size=2, stride=2, padding=0, dilation=1, ceil_mode=False)\n",
      "      (3): Dropout(p=0.2, inplace=False)\n",
      "    )\n",
      "    (5): BatchNorm2d(32, eps=1e-05, momentum=0.1, affine=True, track_running_stats=True)\n",
      "    (6): Sequential(\n",
      "      (0): Conv2d(32, 32, kernel_size=(3, 3), stride=(1, 1), padding=(1, 1))\n",
      "      (1): GELU(approximate='none')\n",
      "      (2): MaxPool2d(kernel_size=2, stride=2, padding=0, dilation=1, ceil_mode=False)\n",
      "      (3): Dropout(p=0.2, inplace=False)\n",
      "    )\n",
      "    (7): BatchNorm2d(32, eps=1e-05, momentum=0.1, affine=True, track_running_stats=True)\n",
      "    (8): Sequential(\n",
      "      (0): Conv2d(32, 32, kernel_size=(3, 3), stride=(1, 1), padding=(1, 1))\n",
      "      (1): GELU(approximate='none')\n",
      "      (2): MaxPool2d(kernel_size=2, stride=2, padding=0, dilation=1, ceil_mode=False)\n",
      "      (3): Dropout(p=0.2, inplace=False)\n",
      "    )\n",
      "    (9): BatchNorm2d(32, eps=1e-05, momentum=0.1, affine=True, track_running_stats=True)\n",
      "  )\n",
      "  (dense_layers): Sequential(\n",
      "    (0): Flatten(start_dim=1, end_dim=-1)\n",
      "    (1): Linear(in_features=2048, out_features=256, bias=True)\n",
      "    (2): GELU(approximate='none')\n",
      "    (3): Dropout(p=0.2, inplace=False)\n",
      "    (4): Linear(in_features=256, out_features=10, bias=True)\n",
      "  )\n",
      ")\n",
      "Min loss 2.33\n",
      "Iteration: 0/313, Loss: 2.33\n",
      "Min loss 2.33\n",
      "Min loss 2.25\n",
      "Min loss 2.13\n",
      "Min loss 2.00\n",
      "Min loss 1.97\n",
      "Min loss 1.95\n",
      "Min loss 1.91\n",
      "Min loss 1.88\n",
      "Min loss 1.80\n",
      "Min loss 1.76\n",
      "Min loss 1.74\n",
      "Min loss 1.71\n",
      "Epoch: 0/30, validayion acc: 29.85,Train acc: 30.03 ,val loss: 2.19, train loss: 2.25\n",
      "Improvement found at epoch 0: validation loss: 2.1860978603363037, validation accuracy: 29.85\n",
      "Iteration: 0/313, Loss: 1.82\n",
      "Min loss 1.69\n",
      "Min loss 1.65\n",
      "Min loss 1.64\n",
      "Min loss 1.54\n",
      "Min loss 1.48\n",
      "Epoch: 1/30, validayion acc: 29.80,Train acc: 32.94 ,val loss: 2.09, train loss: 1.87\n",
      "Improvement found at epoch 1: validation loss: 2.0887815952301025, validation accuracy: 29.8\n",
      "Iteration: 0/313, Loss: 1.95\n",
      "Epoch: 2/30, validayion acc: 32.35,Train acc: 34.52 ,val loss: 1.76, train loss: 1.74\n",
      "Improvement found at epoch 2: validation loss: 1.758995771408081, validation accuracy: 32.35\n",
      "Iteration: 0/313, Loss: 1.93\n",
      "Min loss 1.46\n",
      "Epoch: 3/30, validayion acc: 33.40,Train acc: 37.53 ,val loss: 1.59, train loss: 1.88\n",
      "Improvement found at epoch 3: validation loss: 1.5881620645523071, validation accuracy: 33.4\n",
      "Iteration: 0/313, Loss: 1.73\n",
      "Min loss 1.45\n",
      "Min loss 1.34\n",
      "Min loss 1.14\n",
      "Epoch: 4/30, validayion acc: 34.35,Train acc: 39.42 ,val loss: 1.99, train loss: 1.83\n",
      "No improvement in epoch 4. Current validation loss: 1.9916406869888306, Best validation loss: 1.5881620645523071\n",
      "Iteration: 0/313, Loss: 1.64\n",
      "Epoch: 5/30, validayion acc: 36.20,Train acc: 41.06 ,val loss: 2.00, train loss: 1.47\n",
      "No improvement in epoch 5. Current validation loss: 1.9998095035552979, Best validation loss: 1.5881620645523071\n",
      "Iteration: 0/313, Loss: 1.77\n",
      "Epoch: 6/30, validayion acc: 36.20,Train acc: 43.38 ,val loss: 1.86, train loss: 1.75\n",
      "No improvement in epoch 6. Current validation loss: 1.8600152730941772, Best validation loss: 1.5881620645523071\n",
      "Iteration: 0/313, Loss: 1.66\n",
      "Epoch: 7/30, validayion acc: 36.80,Train acc: 45.54 ,val loss: 1.93, train loss: 1.51\n",
      "No improvement in epoch 7. Current validation loss: 1.9344608783721924, Best validation loss: 1.5881620645523071\n",
      "Iteration: 0/313, Loss: 1.64\n",
      "Min loss 1.06\n",
      "Epoch: 8/30, validayion acc: 36.15,Train acc: 46.14 ,val loss: 1.87, train loss: 1.71\n",
      "No improvement in epoch 8. Current validation loss: 1.8675912618637085, Best validation loss: 1.5881620645523071\n",
      "No improvement in validation loss for 5 consecutive epochs. Stopping training...\n"
     ]
    },
    {
     "data": {
      "image/png": "[encoded data removed]",
      "text/plain": [
       "<Figure size 640x480 with 1 Axes>"
      ]
     },
     "metadata": {},
     "output_type": "display_data"
    },
    {
     "name": "stderr",
     "output_type": "stream",
     "text": [
      "Traceback (most recent call last):\n",
      "  File \"/tmp/ipykernel_59846/571027595.py\", line 6, in train\n",
      "    fit(wandb.config)\n",
      "  File \"/tmp/ipykernel_59846/3001585145.py\", line 101, in fit\n",
      "    plt.plot(range(1, epochs + 1), train_accuracy_arr, label='Training Accuracy')\n",
      "  File \"/home/agcl/anaconda3/envs/A2/lib/python3.12/site-packages/matplotlib/pyplot.py\", line 3590, in plot\n",
      "    return gca().plot(\n",
      "           ^^^^^^^^^^^\n",
      "  File \"/home/agcl/anaconda3/envs/A2/lib/python3.12/site-packages/matplotlib/axes/_axes.py\", line 1724, in plot\n",
      "    lines = [*self._get_lines(self, *args, data=data, **kwargs)]\n",
      "            ^^^^^^^^^^^^^^^^^^^^^^^^^^^^^^^^^^^^^^^^^^^^^^^^^^^^\n",
      "  File \"/home/agcl/anaconda3/envs/A2/lib/python3.12/site-packages/matplotlib/axes/_base.py\", line 303, in __call__\n",
      "    yield from self._plot_args(\n",
      "               ^^^^^^^^^^^^^^^^\n",
      "  File \"/home/agcl/anaconda3/envs/A2/lib/python3.12/site-packages/matplotlib/axes/_base.py\", line 499, in _plot_args\n",
      "    raise ValueError(f\"x and y must have same first dimension, but \"\n",
      "ValueError: x and y must have same first dimension, but have shapes (30,) and (9,)\n"
     ]
    },
    {
     "data": {
      "text/html": [
       "<style>\n",
       "    table.wandb td:nth-child(1) { padding: 0 10px; text-align: left ; width: auto;} td:nth-child(2) {text-align: left ; width: 100%}\n",
       "    .wandb-row { display: flex; flex-direction: row; flex-wrap: wrap; justify-content: flex-start; width: 100% }\n",
       "    .wandb-col { display: flex; flex-direction: column; flex-basis: 100%; flex: 1; padding: 10px; }\n",
       "    </style>\n",
       "<div class=\"wandb-row\"><div class=\"wandb-col\"><h3>Run history:</h3><br/><table class=\"wandb\"><tr><td>accuracy_train</td><td>▁▂▃▄▅▆▇██</td></tr><tr><td>accuracy_validation</td><td>▁▁▄▅▆▇▇█▇</td></tr><tr><td>epochs</td><td>▁▂▃▄▅▅▆▇█</td></tr><tr><td>loss_train</td><td>█▅▃▅▄▁▄▁▃</td></tr><tr><td>loss_validation</td><td>█▇▃▁▆▆▄▅▄</td></tr></table><br/></div><div class=\"wandb-col\"><h3>Run summary:</h3><br/><table class=\"wandb\"><tr><td>accuracy_train</td><td>46.14327</td></tr><tr><td>accuracy_validation</td><td>36.15</td></tr><tr><td>epochs</td><td>8</td></tr><tr><td>loss_train</td><td>1.70532</td></tr><tr><td>loss_validation</td><td>1.86759</td></tr></table><br/></div></div>"
      ],
      "text/plain": [
       "<IPython.core.display.HTML object>"
      ]
     },
     "metadata": {},
     "output_type": "display_data"
    },
    {
     "data": {
      "text/html": [
       " View run <strong style=\"color:#cdcd00\">logical-sweep-3</strong> at: <a href='https://wandb.ai/bincyantonym/CS6910%20A2/runs/a8b1p5gp/workspace' target=\"_blank\">https://wandb.ai/bincyantonym/CS6910%20A2/runs/a8b1p5gp/workspace</a><br/>Synced 6 W&B file(s), 0 media file(s), 0 artifact file(s) and 0 other file(s)"
      ],
      "text/plain": [
       "<IPython.core.display.HTML object>"
      ]
     },
     "metadata": {},
     "output_type": "display_data"
    },
    {
     "data": {
      "text/html": [
       "Find logs at: <code>./wandb/run-20240407_135505-a8b1p5gp/logs</code>"
      ],
      "text/plain": [
       "<IPython.core.display.HTML object>"
      ]
     },
     "metadata": {},
     "output_type": "display_data"
    },
    {
     "name": "stderr",
     "output_type": "stream",
     "text": [
      "Run a8b1p5gp errored:\n",
      "Traceback (most recent call last):\n",
      "  File \"/home/agcl/anaconda3/envs/A2/lib/python3.12/site-packages/wandb/agents/pyagent.py\", line 308, in _run_job\n",
      "    self._function()\n",
      "  File \"/tmp/ipykernel_59846/571027595.py\", line 6, in train\n",
      "    fit(wandb.config)\n",
      "  File \"/tmp/ipykernel_59846/3001585145.py\", line 101, in fit\n",
      "    plt.plot(range(1, epochs + 1), train_accuracy_arr, label='Training Accuracy')\n",
      "  File \"/home/agcl/anaconda3/envs/A2/lib/python3.12/site-packages/matplotlib/pyplot.py\", line 3590, in plot\n",
      "    return gca().plot(\n",
      "           ^^^^^^^^^^^\n",
      "  File \"/home/agcl/anaconda3/envs/A2/lib/python3.12/site-packages/matplotlib/axes/_axes.py\", line 1724, in plot\n",
      "    lines = [*self._get_lines(self, *args, data=data, **kwargs)]\n",
      "            ^^^^^^^^^^^^^^^^^^^^^^^^^^^^^^^^^^^^^^^^^^^^^^^^^^^^\n",
      "  File \"/home/agcl/anaconda3/envs/A2/lib/python3.12/site-packages/matplotlib/axes/_base.py\", line 303, in __call__\n",
      "    yield from self._plot_args(\n",
      "               ^^^^^^^^^^^^^^^^\n",
      "  File \"/home/agcl/anaconda3/envs/A2/lib/python3.12/site-packages/matplotlib/axes/_base.py\", line 499, in _plot_args\n",
      "    raise ValueError(f\"x and y must have same first dimension, but \"\n",
      "ValueError: x and y must have same first dimension, but have shapes (30,) and (9,)\n",
      "\n",
      "\u001b[34m\u001b[1mwandb\u001b[0m: \u001b[32m\u001b[41mERROR\u001b[0m Run a8b1p5gp errored:\n",
      "\u001b[34m\u001b[1mwandb\u001b[0m: \u001b[32m\u001b[41mERROR\u001b[0m Traceback (most recent call last):\n",
      "\u001b[34m\u001b[1mwandb\u001b[0m: \u001b[32m\u001b[41mERROR\u001b[0m   File \"/home/agcl/anaconda3/envs/A2/lib/python3.12/site-packages/wandb/agents/pyagent.py\", line 308, in _run_job\n",
      "\u001b[34m\u001b[1mwandb\u001b[0m: \u001b[32m\u001b[41mERROR\u001b[0m     self._function()\n",
      "\u001b[34m\u001b[1mwandb\u001b[0m: \u001b[32m\u001b[41mERROR\u001b[0m   File \"/tmp/ipykernel_59846/571027595.py\", line 6, in train\n",
      "\u001b[34m\u001b[1mwandb\u001b[0m: \u001b[32m\u001b[41mERROR\u001b[0m     fit(wandb.config)\n",
      "\u001b[34m\u001b[1mwandb\u001b[0m: \u001b[32m\u001b[41mERROR\u001b[0m   File \"/tmp/ipykernel_59846/3001585145.py\", line 101, in fit\n",
      "\u001b[34m\u001b[1mwandb\u001b[0m: \u001b[32m\u001b[41mERROR\u001b[0m     plt.plot(range(1, epochs + 1), train_accuracy_arr, label='Training Accuracy')\n",
      "\u001b[34m\u001b[1mwandb\u001b[0m: \u001b[32m\u001b[41mERROR\u001b[0m   File \"/home/agcl/anaconda3/envs/A2/lib/python3.12/site-packages/matplotlib/pyplot.py\", line 3590, in plot\n",
      "\u001b[34m\u001b[1mwandb\u001b[0m: \u001b[32m\u001b[41mERROR\u001b[0m     return gca().plot(\n",
      "\u001b[34m\u001b[1mwandb\u001b[0m: \u001b[32m\u001b[41mERROR\u001b[0m            ^^^^^^^^^^^\n",
      "\u001b[34m\u001b[1mwandb\u001b[0m: \u001b[32m\u001b[41mERROR\u001b[0m   File \"/home/agcl/anaconda3/envs/A2/lib/python3.12/site-packages/matplotlib/axes/_axes.py\", line 1724, in plot\n",
      "\u001b[34m\u001b[1mwandb\u001b[0m: \u001b[32m\u001b[41mERROR\u001b[0m     lines = [*self._get_lines(self, *args, data=data, **kwargs)]\n",
      "\u001b[34m\u001b[1mwandb\u001b[0m: \u001b[32m\u001b[41mERROR\u001b[0m             ^^^^^^^^^^^^^^^^^^^^^^^^^^^^^^^^^^^^^^^^^^^^^^^^^^^^\n",
      "\u001b[34m\u001b[1mwandb\u001b[0m: \u001b[32m\u001b[41mERROR\u001b[0m   File \"/home/agcl/anaconda3/envs/A2/lib/python3.12/site-packages/matplotlib/axes/_base.py\", line 303, in __call__\n",
      "\u001b[34m\u001b[1mwandb\u001b[0m: \u001b[32m\u001b[41mERROR\u001b[0m     yield from self._plot_args(\n",
      "\u001b[34m\u001b[1mwandb\u001b[0m: \u001b[32m\u001b[41mERROR\u001b[0m                ^^^^^^^^^^^^^^^^\n",
      "\u001b[34m\u001b[1mwandb\u001b[0m: \u001b[32m\u001b[41mERROR\u001b[0m   File \"/home/agcl/anaconda3/envs/A2/lib/python3.12/site-packages/matplotlib/axes/_base.py\", line 499, in _plot_args\n",
      "\u001b[34m\u001b[1mwandb\u001b[0m: \u001b[32m\u001b[41mERROR\u001b[0m     raise ValueError(f\"x and y must have same first dimension, but \"\n",
      "\u001b[34m\u001b[1mwandb\u001b[0m: \u001b[32m\u001b[41mERROR\u001b[0m ValueError: x and y must have same first dimension, but have shapes (30,) and (9,)\n",
      "\u001b[34m\u001b[1mwandb\u001b[0m: \u001b[32m\u001b[41mERROR\u001b[0m \n",
      "\u001b[34m\u001b[1mwandb\u001b[0m: Sweep Agent: Waiting for job.\n",
      "\u001b[34m\u001b[1mwandb\u001b[0m: Job received.\n",
      "\u001b[34m\u001b[1mwandb\u001b[0m: Agent Starting Run: 8cr1z1wq with config:\n",
      "\u001b[34m\u001b[1mwandb\u001b[0m: \tactivation: SiLU\n",
      "\u001b[34m\u001b[1mwandb\u001b[0m: \tactivation_dense: GELU\n",
      "\u001b[34m\u001b[1mwandb\u001b[0m: \tbatch_normalization: Yes\n",
      "\u001b[34m\u001b[1mwandb\u001b[0m: \tbatch_size: 32\n",
      "\u001b[34m\u001b[1mwandb\u001b[0m: \tdata_augmentation: Yes\n",
      "\u001b[34m\u001b[1mwandb\u001b[0m: \tdense: 256\n",
      "\u001b[34m\u001b[1mwandb\u001b[0m: \tdrop_conv: 0.1\n",
      "\u001b[34m\u001b[1mwandb\u001b[0m: \tdrop_dense: 0.3\n",
      "\u001b[34m\u001b[1mwandb\u001b[0m: \tepochs: 30\n",
      "\u001b[34m\u001b[1mwandb\u001b[0m: \tfilter: 32\n",
      "\u001b[34m\u001b[1mwandb\u001b[0m: \tfilter_mult: 0.5\n",
      "\u001b[34m\u001b[1mwandb\u001b[0m: \tkernel_size: 5\n",
      "Failed to detect the name of this notebook, you can set it manually with the WANDB_NOTEBOOK_NAME environment variable to enable code saving.\n"
     ]
    },
    {
     "data": {
      "text/html": [
       "wandb version 0.16.6 is available!  To upgrade, please run:\n",
       " $ pip install wandb --upgrade"
      ],
      "text/plain": [
       "<IPython.core.display.HTML object>"
      ]
     },
     "metadata": {},
     "output_type": "display_data"
    },
    {
     "data": {
      "text/html": [
       "Tracking run with wandb version 0.16.5"
      ],
      "text/plain": [
       "<IPython.core.display.HTML object>"
      ]
     },
     "metadata": {},
     "output_type": "display_data"
    },
    {
     "data": {
      "text/html": [
       "Run data is saved locally in <code>/home/agcl/bincy/CS 6910 A2/wandb/run-20240407_141852-8cr1z1wq</code>"
      ],
      "text/plain": [
       "<IPython.core.display.HTML object>"
      ]
     },
     "metadata": {},
     "output_type": "display_data"
    },
    {
     "data": {
      "text/html": [
       "Syncing run <strong><a href='https://wandb.ai/bincyantonym/CS6910%20A2/runs/8cr1z1wq/workspace' target=\"_blank\">vague-sweep-4</a></strong> to <a href='https://wandb.ai/bincyantonym/CS6910%20A2' target=\"_blank\">Weights & Biases</a> (<a href='https://wandb.me/run' target=\"_blank\">docs</a>)<br/>Sweep page: <a href='https://wandb.ai/bincyantonym/CS6910%20A2/sweeps/73dz9hxw' target=\"_blank\">https://wandb.ai/bincyantonym/CS6910%20A2/sweeps/73dz9hxw</a>"
      ],
      "text/plain": [
       "<IPython.core.display.HTML object>"
      ]
     },
     "metadata": {},
     "output_type": "display_data"
    },
    {
     "data": {
      "text/html": [
       " View project at <a href='https://wandb.ai/bincyantonym/CS6910%20A2' target=\"_blank\">https://wandb.ai/bincyantonym/CS6910%20A2</a>"
      ],
      "text/plain": [
       "<IPython.core.display.HTML object>"
      ]
     },
     "metadata": {},
     "output_type": "display_data"
    },
    {
     "data": {
      "text/html": [
       " View sweep at <a href='https://wandb.ai/bincyantonym/CS6910%20A2/sweeps/73dz9hxw' target=\"_blank\">https://wandb.ai/bincyantonym/CS6910%20A2/sweeps/73dz9hxw</a>"
      ],
      "text/plain": [
       "<IPython.core.display.HTML object>"
      ]
     },
     "metadata": {},
     "output_type": "display_data"
    },
    {
     "data": {
      "text/html": [
       " View run at <a href='https://wandb.ai/bincyantonym/CS6910%20A2/runs/8cr1z1wq/workspace' target=\"_blank\">https://wandb.ai/bincyantonym/CS6910%20A2/runs/8cr1z1wq/workspace</a>"
      ],
      "text/plain": [
       "<IPython.core.display.HTML object>"
      ]
     },
     "metadata": {},
     "output_type": "display_data"
    },
    {
     "name": "stderr",
     "output_type": "stream",
     "text": [
      "\u001b[34m\u001b[1mwandb\u001b[0m: \u001b[33mWARNING\u001b[0m Calling wandb.login() after wandb.init() has no effect.\n"
     ]
    },
    {
     "name": "stdout",
     "output_type": "stream",
     "text": [
      "epoch_30_acti_SiLU_acti_dense_GELU__batchsize_32__kernel_size_5_denseneurons_256_filter_mult_0.5__drop_conv_0.1__drop_dense_0.3_filter_32_aug_Yes_batch_norm_Yes\n",
      "CNN(\n",
      "  (conv_layers): ModuleList(\n",
      "    (0): Sequential(\n",
      "      (0): Conv2d(3, 32, kernel_size=(5, 5), stride=(1, 1), padding=(2, 2))\n",
      "      (1): SiLU()\n",
      "      (2): MaxPool2d(kernel_size=2, stride=2, padding=0, dilation=1, ceil_mode=False)\n",
      "      (3): Dropout(p=0.1, inplace=False)\n",
      "    )\n",
      "    (1): BatchNorm2d(32, eps=1e-05, momentum=0.1, affine=True, track_running_stats=True)\n",
      "    (2): Sequential(\n",
      "      (0): Conv2d(32, 16, kernel_size=(5, 5), stride=(1, 1), padding=(2, 2))\n",
      "      (1): SiLU()\n",
      "      (2): MaxPool2d(kernel_size=2, stride=2, padding=0, dilation=1, ceil_mode=False)\n",
      "      (3): Dropout(p=0.1, inplace=False)\n",
      "    )\n",
      "    (3): BatchNorm2d(16, eps=1e-05, momentum=0.1, affine=True, track_running_stats=True)\n",
      "    (4): Sequential(\n",
      "      (0): Conv2d(16, 8, kernel_size=(5, 5), stride=(1, 1), padding=(2, 2))\n",
      "      (1): SiLU()\n",
      "      (2): MaxPool2d(kernel_size=2, stride=2, padding=0, dilation=1, ceil_mode=False)\n",
      "      (3): Dropout(p=0.1, inplace=False)\n",
      "    )\n",
      "    (5): BatchNorm2d(8, eps=1e-05, momentum=0.1, affine=True, track_running_stats=True)\n",
      "    (6): Sequential(\n",
      "      (0): Conv2d(8, 4, kernel_size=(5, 5), stride=(1, 1), padding=(2, 2))\n",
      "      (1): SiLU()\n",
      "      (2): MaxPool2d(kernel_size=2, stride=2, padding=0, dilation=1, ceil_mode=False)\n",
      "      (3): Dropout(p=0.1, inplace=False)\n",
      "    )\n",
      "    (7): BatchNorm2d(4, eps=1e-05, momentum=0.1, affine=True, track_running_stats=True)\n",
      "    (8): Sequential(\n",
      "      (0): Conv2d(4, 2, kernel_size=(5, 5), stride=(1, 1), padding=(2, 2))\n",
      "      (1): SiLU()\n",
      "      (2): MaxPool2d(kernel_size=2, stride=2, padding=0, dilation=1, ceil_mode=False)\n",
      "      (3): Dropout(p=0.1, inplace=False)\n",
      "    )\n",
      "    (9): BatchNorm2d(2, eps=1e-05, momentum=0.1, affine=True, track_running_stats=True)\n",
      "  )\n",
      "  (dense_layers): Sequential(\n",
      "    (0): Flatten(start_dim=1, end_dim=-1)\n",
      "    (1): Linear(in_features=128, out_features=256, bias=True)\n",
      "    (2): SiLU()\n",
      "    (3): Dropout(p=0.3, inplace=False)\n",
      "    (4): Linear(in_features=256, out_features=10, bias=True)\n",
      "  )\n",
      ")\n",
      "Min loss 2.28\n",
      "Iteration: 0/313, Loss: 2.28\n",
      "Min loss 2.25\n",
      "Min loss 2.24\n",
      "Min loss 2.22\n",
      "Min loss 2.22\n",
      "Min loss 2.19\n",
      "Min loss 2.18\n",
      "Min loss 2.09\n",
      "Min loss 2.07\n",
      "Min loss 1.99\n",
      "Min loss 1.98\n",
      "Min loss 1.89\n",
      "Epoch: 0/30, validayion acc: 23.05,Train acc: 23.52 ,val loss: 2.16, train loss: 2.09\n",
      "Improvement found at epoch 0: validation loss: 2.1589787006378174, validation accuracy: 23.05\n",
      "Iteration: 0/313, Loss: 2.08\n",
      "Min loss 1.83\n",
      "Epoch: 1/30, validayion acc: 22.20,Train acc: 24.53 ,val loss: 2.06, train loss: 2.26\n",
      "Improvement found at epoch 1: validation loss: 2.0578720569610596, validation accuracy: 22.2\n",
      "Iteration: 0/313, Loss: 2.13\n",
      "Min loss 1.81\n",
      "Epoch: 2/30, validayion acc: 25.85,Train acc: 26.79 ,val loss: 1.90, train loss: 2.07\n",
      "Improvement found at epoch 2: validation loss: 1.9003396034240723, validation accuracy: 25.85\n",
      "Iteration: 0/313, Loss: 1.96\n",
      "Min loss 1.80\n",
      "Min loss 1.79\n",
      "Min loss 1.79\n",
      "Min loss 1.78\n",
      "Epoch: 3/30, validayion acc: 26.15,Train acc: 26.88 ,val loss: 2.01, train loss: 2.24\n",
      "No improvement in epoch 3. Current validation loss: 2.0080792903900146, Best validation loss: 1.9003396034240723\n",
      "Iteration: 0/313, Loss: 1.90\n",
      "Min loss 1.77\n",
      "Min loss 1.58\n",
      "Epoch: 4/30, validayion acc: 25.70,Train acc: 26.65 ,val loss: 2.11, train loss: 2.09\n",
      "No improvement in epoch 4. Current validation loss: 2.11415696144104, Best validation loss: 1.9003396034240723\n",
      "Iteration: 0/313, Loss: 1.96\n",
      "Epoch: 5/30, validayion acc: 28.05,Train acc: 28.72 ,val loss: 1.89, train loss: 1.85\n",
      "Improvement found at epoch 5: validation loss: 1.8949167728424072, validation accuracy: 28.05\n",
      "Iteration: 0/313, Loss: 2.02\n",
      "Epoch: 6/30, validayion acc: 27.35,Train acc: 28.99 ,val loss: 1.92, train loss: 2.06\n",
      "No improvement in epoch 6. Current validation loss: 1.9206737279891968, Best validation loss: 1.8949167728424072\n",
      "Iteration: 0/313, Loss: 1.87\n",
      "Epoch: 7/30, validayion acc: 30.95,Train acc: 30.83 ,val loss: 1.95, train loss: 1.85\n",
      "No improvement in epoch 7. Current validation loss: 1.9481477737426758, Best validation loss: 1.8949167728424072\n",
      "Iteration: 0/313, Loss: 1.91\n",
      "Epoch: 8/30, validayion acc: 27.90,Train acc: 30.25 ,val loss: 1.91, train loss: 2.08\n",
      "No improvement in epoch 8. Current validation loss: 1.911848545074463, Best validation loss: 1.8949167728424072\n",
      "Iteration: 0/313, Loss: 2.15\n",
      "Epoch: 9/30, validayion acc: 30.15,Train acc: 32.35 ,val loss: 1.97, train loss: 1.86\n",
      "No improvement in epoch 9. Current validation loss: 1.9693373441696167, Best validation loss: 1.8949167728424072\n",
      "Iteration: 0/313, Loss: 1.74\n",
      "Min loss 1.55\n",
      "Epoch: 10/30, validayion acc: 29.60,Train acc: 31.60 ,val loss: 1.81, train loss: 1.87\n",
      "Improvement found at epoch 10: validation loss: 1.8097926378250122, validation accuracy: 29.6\n",
      "Iteration: 0/313, Loss: 2.10\n",
      "Min loss 1.47\n",
      "Epoch: 11/30, validayion acc: 29.90,Train acc: 31.70 ,val loss: 1.91, train loss: 1.86\n",
      "No improvement in epoch 11. Current validation loss: 1.9095544815063477, Best validation loss: 1.8097926378250122\n",
      "Iteration: 0/313, Loss: 1.93\n"
     ]
    }
   ],
   "source": [
    "sweep_config = {\n",
    "  \"name\": \"2080 Random sweep 30 [1]\",\n",
    "  \"metric\": {\n",
    "      \"name\": \"accuracy_validation\",\n",
    "      \"goal\": \"maximize\"\n",
    "  },\n",
    "  \"method\": \"random\",\n",
    "  \"parameters\": {\n",
    "        \"epochs\": {\n",
    "            \"values\": [30]\n",
    "        },\n",
    "        \"batch_size\": {\n",
    "            \"values\": [32]\n",
    "        },\n",
    "        \"filter\":{\n",
    "            \"values\":[32]\n",
    "        },\n",
    "        \"kernel_size\":{\n",
    "            \"values\":[3,5]\n",
    "        },\n",
    "        \"drop_conv\": {\n",
    "            \"values\": [0.1,0,0.2]\n",
    "        },\n",
    "        \"drop_dense\": {\n",
    "            \"values\": [0.2,0.3]\n",
    "        },\n",
    "        \"filter_mult\": {\n",
    "            \"values\": [1,2,0.5]\n",
    "        },\n",
    "        \"activation_dense\": {\n",
    "            \"values\": [\"ReLU\",\"GELU\",\"SiLU\"]  # Specify activation functions as strings\n",
    "        },\n",
    "        \"activation\": {\n",
    "            \"values\": [\"ReLU\",\"GELU\",\"SiLU\"]  # Specify activation functions as strings\n",
    "        },\n",
    "        \"dense\": {\n",
    "            \"values\": [256,500,1000]  # Specify activation functions as strings\n",
    "        },\n",
    "        \"data_augmentation\": {\"values\": [\"Yes\"]},\n",
    "        \"batch_normalization\": {\"values\": [\"Yes\"]},\n",
    "    }\n",
    "}\n",
    "sweep_id = wandb.sweep(sweep_config, project=\"CS6910 A2\")\n",
    "wandb.agent(sweep_id, function = train,count=30)\n",
    "wandb.finish()"
   ]
  },
  {
   "cell_type": "code",
   "execution_count": null,
   "metadata": {},
   "outputs": [],
   "source": []
  },
  {
   "cell_type": "code",
   "execution_count": null,
   "metadata": {},
   "outputs": [],
   "source": []
  },
  {
   "cell_type": "code",
   "execution_count": null,
   "metadata": {},
   "outputs": [],
   "source": []
  }
 ],
 "metadata": {
  "kernelspec": {
   "display_name": "A1",
   "language": "python",
   "name": "python3"
  },
  "language_info": {
   "codemirror_mode": {
    "name": "ipython",
    "version": 3
   },
   "file_extension": ".py",
   "mimetype": "text/x-python",
   "name": "python",
   "nbconvert_exporter": "python",
   "pygments_lexer": "ipython3",
   "version": "3.12.2"
  }
 },
 "nbformat": 4,
 "nbformat_minor": 2
}
